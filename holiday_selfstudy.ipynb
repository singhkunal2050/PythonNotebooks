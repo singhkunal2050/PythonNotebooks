{
 "cells": [
  {
   "cell_type": "markdown",
   "metadata": {},
   "source": [
    "# Classes and Objects\n",
    ">Python is an object oriented programming language.\n",
    "\n",
    ">Almost everything in Python is an object, with its properties and methods.\n",
    "\n",
    ">A Class is like an object constructor, or a \"blueprint\" for creating objects.\n",
    "\n"
   ]
  },
  {
   "cell_type": "code",
   "execution_count": 1,
   "metadata": {},
   "outputs": [
    {
     "name": "stdout",
     "output_type": "stream",
     "text": [
      "-2\n"
     ]
    }
   ],
   "source": [
    "# create a basic class wnd initialize it \n",
    "\n",
    "class MyClass:\n",
    "    x=-2            # class member variable\n",
    "\n",
    "c = MyClass()\n",
    "print(c.x)    \n"
   ]
  },
  {
   "cell_type": "code",
   "execution_count": 2,
   "metadata": {},
   "outputs": [
    {
     "name": "stdout",
     "output_type": "stream",
     "text": [
      "kunal singh\n",
      "Enter First Name :: Anish\n",
      "Enter Last Name :: singh\n",
      "The Name :: Anish singh\n"
     ]
    }
   ],
   "source": [
    "# constructor \n",
    "\n",
    "class Person:\n",
    "    def __init__(self,fname,lname):\n",
    "        self.fname=fname\n",
    "        self.lname=lname\n",
    "    \n",
    "    def setValues(self):\n",
    "        self.fname=input('Enter First Name :: ')\n",
    "        self.lname=input('Enter Last Name :: ')\n",
    "        \n",
    "    def Display(self):\n",
    "        print(\"The Name :: \" + self.fname + \" \" + self.lname)\n",
    "        \n",
    "p = Person(\"kunal\" ,\"singh\")\n",
    "print(p.fname + \" \" + p.lname)\n",
    "\n",
    "p.setValues()\n",
    "p.Display()\n"
   ]
  },
  {
   "cell_type": "code",
   "execution_count": 3,
   "metadata": {},
   "outputs": [],
   "source": [
    "# The __init__() function is called automatically every time the class is being used to create a new object.\n",
    "# The self parameter is a reference to the current instance of the class, and is used to access variables that belongs to the class.\n",
    "# It does not have to be named self , you can call it whatever you like, but it has to be the first parameter of any function in the class:\n",
    "# We can also use 'this' instead of self"
   ]
  },
  {
   "cell_type": "code",
   "execution_count": 4,
   "metadata": {},
   "outputs": [
    {
     "name": "stdout",
     "output_type": "stream",
     "text": [
      "Pushed!\n",
      "Pushed!\n",
      "Pushed!\n",
      "Pushed!\n",
      "Pushed!\n",
      "Pushed!\n",
      "Pushed!\n",
      "Stack is\n",
      "106 103 100 97 94 91 88 \n",
      "Popping 106\n",
      "Popped!\n",
      "\n",
      "Popping 103\n",
      "Popped!\n",
      "\n",
      "Popping 100\n",
      "Popped!\n",
      "\n",
      "Popping 97\n",
      "Popped!\n",
      "\n",
      "Popping 94\n",
      "Popped!\n",
      "\n",
      "Popping 91\n",
      "Popped!\n",
      "\n",
      "Popping 88\n",
      "Popped!\n",
      "Underflow\n",
      "Underflow\n"
     ]
    }
   ],
   "source": [
    "# eg of stack class with this instead of self\n",
    "\n",
    "class Stk:\n",
    "    def __init__(this):\n",
    "        this.top = -1   # empty stk\n",
    "        this.s = []  \n",
    "        this.l = 0      # length = 0\n",
    "        \n",
    "    def push(this,no):\n",
    "        this.s.insert(0,no)\n",
    "        this.top=this.top+1\n",
    "        this.l= this.l+1\n",
    "        print('Pushed!')\n",
    "        \n",
    "    def pop(this):\n",
    "        if (s.top==-1):\n",
    "            print('Underflow')\n",
    "        else:\n",
    "            print('\\nPopping {0:d}'.format(this.s[0]))\n",
    "            this.s.pop(0)\n",
    "            this.top=this.top-1\n",
    "            this.l= this.l-1\n",
    "            print('Popped!')\n",
    "\n",
    "    def show(this):\n",
    "        print('Stack is')\n",
    "        for i in this.s:\n",
    "            print(i,end=\" \")\n",
    "            \n",
    "s = Stk()\n",
    "for i in range(88,109,3):\n",
    "    s.push(i)\n",
    "s.show()\n",
    "\n",
    "for i in range(9):\n",
    "    s.pop()"
   ]
  },
  {
   "cell_type": "code",
   "execution_count": 5,
   "metadata": {},
   "outputs": [
    {
     "data": {
      "text/plain": [
       "[2, 34, 4]"
      ]
     },
     "execution_count": 5,
     "metadata": {},
     "output_type": "execute_result"
    }
   ],
   "source": [
    "li = [2,34,4]\n",
    "li.insert(0,555)\n",
    "li.pop(0)\n",
    "li"
   ]
  },
  {
   "cell_type": "code",
   "execution_count": 6,
   "metadata": {},
   "outputs": [],
   "source": [
    "# func and class definitions cannot be empty, but if you for some reason\n",
    "# have a class definition with no content, put in the pass statement to avoid getting an error.\n",
    "\n",
    "def mySillyFunction():\n",
    "    pass\n",
    "\n",
    "class SillyClass:\n",
    "    pass\n"
   ]
  },
  {
   "cell_type": "markdown",
   "metadata": {},
   "source": [
    "# Python Inheritance\n",
    ">Inheritance allows us to define a class that inherits all the methods and properties from another class.\n",
    "\n",
    ">Parent class is the class being inherited from, also called base class.\n",
    "\n",
    ">Child class is the class that inherits from another class, also called derived class."
   ]
  },
  {
   "cell_type": "code",
   "execution_count": 7,
   "metadata": {},
   "outputs": [],
   "source": [
    "# person class is created above we'll inherit it"
   ]
  },
  {
   "cell_type": "markdown",
   "metadata": {},
   "source": [
    "# Create a Child Class\n",
    ">To create a class that inherits the functionality from another class, send the parent class as a parameter when creating the child class:\n"
   ]
  },
  {
   "cell_type": "code",
   "execution_count": 8,
   "metadata": {},
   "outputs": [
    {
     "name": "stdout",
     "output_type": "stream",
     "text": [
      "Enter First Name :: Sohan\n",
      "Enter Last Name :: gaiar\n",
      "The Name :: Sohan gaiar\n"
     ]
    }
   ],
   "source": [
    "class Student(Person):\n",
    "    pass\n",
    "\n",
    "s = Student(\"Mohan\" , \"Sehgal\")\n",
    "s.setValues()\n",
    "s.Display()\n"
   ]
  },
  {
   "cell_type": "code",
   "execution_count": 9,
   "metadata": {},
   "outputs": [
    {
     "name": "stdout",
     "output_type": "stream",
     "text": [
      "Enter First Name :: Gayu\n",
      "Enter Last Name :: Mayu\n",
      "Please enter roll no : 344\n",
      "Please enter age no : 22\n",
      "The Name :: Gayu Mayu\n",
      "The ROll is :  344\n",
      "The Age is :  22\n"
     ]
    }
   ],
   "source": [
    "class Student(Person):\n",
    "    def __init__(this,fname,lname,roll,age):\n",
    "        Person.__init__(this,fname,lname)\n",
    "        this.roll=roll\n",
    "        this.age=age\n",
    "        \n",
    "    def setValues(this):\n",
    "        Person.setValues(this)\n",
    "        this.roll = input('Please enter roll no : ')\n",
    "        this.age = input('Please enter age no : ')\n",
    "\n",
    "    def Display(this):\n",
    "        Person.Display(this)\n",
    "        print('The ROll is : ',this.roll)\n",
    "        print('The Age is : ',this.age)\n",
    "        \n",
    "s = Student(\"Mohan\" , \"Sehgal\",223,25)\n",
    "s.setValues()\n",
    "s.Display()\n"
   ]
  },
  {
   "cell_type": "markdown",
   "metadata": {},
   "source": [
    "# Use the super() Function\n",
    ">Python also has a super() function that will make the child class inherit all the methods and properties from its parent\n",
    "\n",
    "> When using super() func for calling base class functions u dont need to pass the self/this object\n"
   ]
  },
  {
   "cell_type": "code",
   "execution_count": 10,
   "metadata": {},
   "outputs": [
    {
     "name": "stdout",
     "output_type": "stream",
     "text": [
      "Enter First Name :: Kunal\n",
      "Enter Last Name :: Sinfg\n",
      "Please enter roll no : 435\n",
      "Please enter age no : 23\n",
      "The Name :: Kunal Sinfg\n",
      "The ROll is :  435\n",
      "The Age is :  23\n"
     ]
    }
   ],
   "source": [
    "class Student(Person):\n",
    "    def __init__(this,fname,lname,roll,age):\n",
    "        super().__init__(fname,lname)\n",
    "        this.roll=roll\n",
    "        this.age=age\n",
    "        \n",
    "    def setValues(this):\n",
    "        super().setValues()\n",
    "        this.roll = input('Please enter roll no : ')\n",
    "        this.age = input('Please enter age no : ')\n",
    "\n",
    "    def Display(this):\n",
    "        super().Display()\n",
    "        print('The ROll is : ',this.roll)\n",
    "        print('The Age is : ',this.age)\n",
    "        \n",
    "s = Student(\"Mohan\" , \"Sehgal\",223,25)\n",
    "s.setValues()\n",
    "s.Display()"
   ]
  },
  {
   "cell_type": "markdown",
   "metadata": {},
   "source": [
    "   # Global Keyword\n",
    "   >If you need to create a global variable, but are stuck in the local scope, you can use the global keyword.\n",
    "   \n",
    "   >The global keyword makes the variable global.\n",
    "   "
   ]
  },
  {
   "cell_type": "code",
   "execution_count": 11,
   "metadata": {},
   "outputs": [
    {
     "name": "stdout",
     "output_type": "stream",
     "text": [
      "300\n"
     ]
    }
   ],
   "source": [
    "def myfunc():\n",
    "    global x\n",
    "    x = 300\n",
    "\n",
    "myfunc()\n",
    "print(x)"
   ]
  },
  {
   "cell_type": "markdown",
   "metadata": {},
   "source": [
    "# Modules\n",
    ">Consider a module to be the same as a code library.A file containing a set of functions you want to include in your application.\n",
    "\n",
    ">To create a module just save the code you want in a file with the file extension .py:\n",
    "\n",
    "> Modules can have functions and objects in it"
   ]
  },
  {
   "cell_type": "code",
   "execution_count": 12,
   "metadata": {},
   "outputs": [],
   "source": [
    "# lets create a module using file handling\n",
    "\n",
    "code =\"\"\"\n",
    "\n",
    "li = [1,2,34,5,3,3,'Kunal',\"anos\",243.444]\n",
    "\n",
    "def greetKunal(name):\n",
    "    print(\"Hello \" + name + \"! How are You!!!\")   \n",
    "\n",
    "\"\"\"\n",
    "\n",
    "f = open('ksrModule.py','w')\n",
    "f.write(code)\n",
    "f.close()\n"
   ]
  },
  {
   "cell_type": "code",
   "execution_count": 13,
   "metadata": {},
   "outputs": [
    {
     "name": "stdout",
     "output_type": "stream",
     "text": [
      "\n",
      "\n",
      "li = [1,2,34,5,3,3,'Kunal',\"anos\",243.444]\n",
      "\n",
      "def greetKunal(name):\n",
      "    print(\"Hello \" + name + \"! How are You!!!\")   \n",
      "\n",
      "\n"
     ]
    }
   ],
   "source": [
    "# lets see if our file is created\n",
    "\n",
    "f = open('ksrModule.py','r')\n",
    "print(f.read())\n",
    "f.close()"
   ]
  },
  {
   "cell_type": "code",
   "execution_count": 14,
   "metadata": {},
   "outputs": [
    {
     "name": "stdout",
     "output_type": "stream",
     "text": [
      "Hello Anjali! How are You!!!\n"
     ]
    },
    {
     "data": {
      "text/plain": [
       "[1, 2, 34, 5, 3, 3, 'Kunal', 'anos', 243.444]"
      ]
     },
     "execution_count": 14,
     "metadata": {},
     "output_type": "execute_result"
    }
   ],
   "source": [
    "# now lets use the module after all this\n",
    "\n",
    "import ksrModule\n",
    "ksrModule.greetKunal(\"Anjali\")\n",
    "ksrModule.li"
   ]
  },
  {
   "cell_type": "code",
   "execution_count": 15,
   "metadata": {},
   "outputs": [
    {
     "name": "stdout",
     "output_type": "stream",
     "text": [
      "ThanksKunal Singh\n",
      "0\n",
      "1\n",
      "2\n",
      "3\n",
      "4\n",
      "5\n",
      "6\n",
      "7\n",
      "8\n",
      "9\n",
      "10\n"
     ]
    }
   ],
   "source": [
    "import funmodule\n",
    "funmodule.fun('Kunal','Singh')\n",
    "funmodule.getnos(11)"
   ]
  },
  {
   "cell_type": "code",
   "execution_count": 16,
   "metadata": {},
   "outputs": [
    {
     "name": "stdout",
     "output_type": "stream",
     "text": [
      "0\n",
      "1\n",
      "2\n",
      "3\n",
      "4\n",
      "5\n",
      "6\n",
      "7\n",
      "8\n",
      "9\n",
      "10\n",
      "11\n",
      "12\n",
      "13\n",
      "14\n",
      "15\n",
      "16\n",
      "17\n",
      "18\n",
      "19\n"
     ]
    }
   ],
   "source": [
    "import funmodule\n",
    "funmodule.getnos(20)"
   ]
  },
  {
   "cell_type": "code",
   "execution_count": 17,
   "metadata": {},
   "outputs": [
    {
     "name": "stdout",
     "output_type": "stream",
     "text": [
      "221\t340\t105\t302\t25\t14\t254\t152\t138\t221\t29\t345\t162\t370\t82\t239\t390\t293\t108\t176\t377\t332\t400\t192\t174\t298\t101\t391\t252\t67\t399\t195\t257\t247\t181\t18\t338\t247\t43\t83\t285\t160\t194\t267\t159\t69\t386\t45\t223\t60\t"
     ]
    }
   ],
   "source": [
    "import mod3\n",
    "dir(mod3)\n",
    "mod3.randoms(50)"
   ]
  },
  {
   "cell_type": "markdown",
   "metadata": {},
   "source": [
    "# Import From Module\n",
    "> we can choose only specific function or object to import \n",
    "\n",
    "> this improves perfomance\n"
   ]
  },
  {
   "cell_type": "code",
   "execution_count": 18,
   "metadata": {},
   "outputs": [
    {
     "data": {
      "text/plain": [
       "[1, 2, 34, 5, 3, 3, 'Kunal', 'anos', 243.444]"
      ]
     },
     "execution_count": 18,
     "metadata": {},
     "output_type": "execute_result"
    }
   ],
   "source": [
    "from ksrModule import li\n",
    "li"
   ]
  },
  {
   "cell_type": "markdown",
   "metadata": {},
   "source": [
    "# Python Dates"
   ]
  },
  {
   "cell_type": "code",
   "execution_count": 29,
   "metadata": {},
   "outputs": [
    {
     "name": "stdout",
     "output_type": "stream",
     "text": [
      "2020-04-12 13:57:42.333166\n",
      "12\n",
      "4\n",
      "13\n",
      "333166\n",
      "0001-01-01 00:00:00\n",
      "42\n",
      "<built-in method timestamp of datetime.datetime object at 0x000002CC70521960>\n"
     ]
    }
   ],
   "source": [
    "import datetime\n",
    "\n",
    "obj= datetime.datetime.now()\n",
    "\n",
    "print(obj)\n",
    "print(obj.day)\n",
    "print(obj.month)\n",
    "print(obj.hour)\n",
    "print(obj.microsecond)\n",
    "print(obj.min)\n",
    "print(obj.second)\n",
    "print(obj.timestamp)"
   ]
  },
  {
   "cell_type": "code",
   "execution_count": 21,
   "metadata": {},
   "outputs": [
    {
     "name": "stdout",
     "output_type": "stream",
     "text": [
      "Help on class datetime in datetime:\n",
      "\n",
      "datetime.datetime = class datetime(date)\n",
      " |  datetime(year, month, day[, hour[, minute[, second[, microsecond[,tzinfo]]]]])\n",
      " |  \n",
      " |  The year, month and day arguments are required. tzinfo may be None, or an\n",
      " |  instance of a tzinfo subclass. The remaining arguments may be ints.\n",
      " |  \n",
      " |  Method resolution order:\n",
      " |      datetime\n",
      " |      date\n",
      " |      builtins.object\n",
      " |  \n",
      " |  Methods defined here:\n",
      " |  \n",
      " |  __add__(self, value, /)\n",
      " |      Return self+value.\n",
      " |  \n",
      " |  __eq__(self, value, /)\n",
      " |      Return self==value.\n",
      " |  \n",
      " |  __ge__(self, value, /)\n",
      " |      Return self>=value.\n",
      " |  \n",
      " |  __getattribute__(self, name, /)\n",
      " |      Return getattr(self, name).\n",
      " |  \n",
      " |  __gt__(self, value, /)\n",
      " |      Return self>value.\n",
      " |  \n",
      " |  __hash__(self, /)\n",
      " |      Return hash(self).\n",
      " |  \n",
      " |  __le__(self, value, /)\n",
      " |      Return self<=value.\n",
      " |  \n",
      " |  __lt__(self, value, /)\n",
      " |      Return self<value.\n",
      " |  \n",
      " |  __ne__(self, value, /)\n",
      " |      Return self!=value.\n",
      " |  \n",
      " |  __radd__(self, value, /)\n",
      " |      Return value+self.\n",
      " |  \n",
      " |  __reduce__(...)\n",
      " |      __reduce__() -> (cls, state)\n",
      " |  \n",
      " |  __reduce_ex__(...)\n",
      " |      __reduce_ex__(proto) -> (cls, state)\n",
      " |  \n",
      " |  __repr__(self, /)\n",
      " |      Return repr(self).\n",
      " |  \n",
      " |  __rsub__(self, value, /)\n",
      " |      Return value-self.\n",
      " |  \n",
      " |  __str__(self, /)\n",
      " |      Return str(self).\n",
      " |  \n",
      " |  __sub__(self, value, /)\n",
      " |      Return self-value.\n",
      " |  \n",
      " |  astimezone(...)\n",
      " |      tz -> convert to local time in new timezone tz\n",
      " |  \n",
      " |  ctime(...)\n",
      " |      Return ctime() style string.\n",
      " |  \n",
      " |  date(...)\n",
      " |      Return date object with same year, month and day.\n",
      " |  \n",
      " |  dst(...)\n",
      " |      Return self.tzinfo.dst(self).\n",
      " |  \n",
      " |  isoformat(...)\n",
      " |      [sep] -> string in ISO 8601 format, YYYY-MM-DDT[HH[:MM[:SS[.mmm[uuu]]]]][+HH:MM].\n",
      " |      sep is used to separate the year from the time, and defaults to 'T'.\n",
      " |      timespec specifies what components of the time to include (allowed values are 'auto', 'hours', 'minutes', 'seconds', 'milliseconds', and 'microseconds').\n",
      " |  \n",
      " |  replace(...)\n",
      " |      Return datetime with new specified fields.\n",
      " |  \n",
      " |  time(...)\n",
      " |      Return time object with same time but with tzinfo=None.\n",
      " |  \n",
      " |  timestamp(...)\n",
      " |      Return POSIX timestamp as float.\n",
      " |  \n",
      " |  timetuple(...)\n",
      " |      Return time tuple, compatible with time.localtime().\n",
      " |  \n",
      " |  timetz(...)\n",
      " |      Return time object with same time and tzinfo.\n",
      " |  \n",
      " |  tzname(...)\n",
      " |      Return self.tzinfo.tzname(self).\n",
      " |  \n",
      " |  utcoffset(...)\n",
      " |      Return self.tzinfo.utcoffset(self).\n",
      " |  \n",
      " |  utctimetuple(...)\n",
      " |      Return UTC time tuple, compatible with time.localtime().\n",
      " |  \n",
      " |  ----------------------------------------------------------------------\n",
      " |  Class methods defined here:\n",
      " |  \n",
      " |  combine(...) from builtins.type\n",
      " |      date, time -> datetime with same date and time fields\n",
      " |  \n",
      " |  fromisoformat(...) from builtins.type\n",
      " |      string -> datetime from datetime.isoformat() output\n",
      " |  \n",
      " |  fromtimestamp(...) from builtins.type\n",
      " |      timestamp[, tz] -> tz's local time from POSIX timestamp.\n",
      " |  \n",
      " |  now(tz=None) from builtins.type\n",
      " |      Returns new datetime object representing current time local to tz.\n",
      " |      \n",
      " |        tz\n",
      " |          Timezone object.\n",
      " |      \n",
      " |      If no tz is specified, uses local timezone.\n",
      " |  \n",
      " |  strptime(...) from builtins.type\n",
      " |      string, format -> new datetime parsed from a string (like time.strptime()).\n",
      " |  \n",
      " |  utcfromtimestamp(...) from builtins.type\n",
      " |      Construct a naive UTC datetime from a POSIX timestamp.\n",
      " |  \n",
      " |  utcnow(...) from builtins.type\n",
      " |      Return a new datetime representing UTC day and time.\n",
      " |  \n",
      " |  ----------------------------------------------------------------------\n",
      " |  Static methods defined here:\n",
      " |  \n",
      " |  __new__(*args, **kwargs) from builtins.type\n",
      " |      Create and return a new object.  See help(type) for accurate signature.\n",
      " |  \n",
      " |  ----------------------------------------------------------------------\n",
      " |  Data descriptors defined here:\n",
      " |  \n",
      " |  fold\n",
      " |  \n",
      " |  hour\n",
      " |  \n",
      " |  microsecond\n",
      " |  \n",
      " |  minute\n",
      " |  \n",
      " |  second\n",
      " |  \n",
      " |  tzinfo\n",
      " |  \n",
      " |  ----------------------------------------------------------------------\n",
      " |  Data and other attributes defined here:\n",
      " |  \n",
      " |  max = datetime.datetime(9999, 12, 31, 23, 59, 59, 999999)\n",
      " |  \n",
      " |  min = datetime.datetime(1, 1, 1, 0, 0)\n",
      " |  \n",
      " |  resolution = datetime.timedelta(microseconds=1)\n",
      " |  \n",
      " |  ----------------------------------------------------------------------\n",
      " |  Methods inherited from date:\n",
      " |  \n",
      " |  __format__(...)\n",
      " |      Formats self with strftime.\n",
      " |  \n",
      " |  isocalendar(...)\n",
      " |      Return a 3-tuple containing ISO year, week number, and weekday.\n",
      " |  \n",
      " |  isoweekday(...)\n",
      " |      Return the day of the week represented by the date.\n",
      " |      Monday == 1 ... Sunday == 7\n",
      " |  \n",
      " |  strftime(...)\n",
      " |      format -> strftime() style string.\n",
      " |  \n",
      " |  toordinal(...)\n",
      " |      Return proleptic Gregorian ordinal.  January 1 of year 1 is day 1.\n",
      " |  \n",
      " |  weekday(...)\n",
      " |      Return the day of the week represented by the date.\n",
      " |      Monday == 0 ... Sunday == 6\n",
      " |  \n",
      " |  ----------------------------------------------------------------------\n",
      " |  Class methods inherited from date:\n",
      " |  \n",
      " |  fromordinal(...) from builtins.type\n",
      " |      int -> date corresponding to a proleptic Gregorian ordinal.\n",
      " |  \n",
      " |  today(...) from builtins.type\n",
      " |      Current date or datetime:  same as self.__class__.fromtimestamp(time.time()).\n",
      " |  \n",
      " |  ----------------------------------------------------------------------\n",
      " |  Data descriptors inherited from date:\n",
      " |  \n",
      " |  day\n",
      " |  \n",
      " |  month\n",
      " |  \n",
      " |  year\n",
      "\n"
     ]
    }
   ],
   "source": [
    "help('datetime.datetime')"
   ]
  },
  {
   "cell_type": "code",
   "execution_count": 33,
   "metadata": {},
   "outputs": [
    {
     "name": "stdout",
     "output_type": "stream",
     "text": [
      "2010-05-17 00:00:00\n"
     ]
    }
   ],
   "source": [
    "# creating a date obj with our vals\n",
    "# The datetime() class also takes parameters for time and timezone (hour, minute, \n",
    "# second, microsecond, tzone), but they are optional, and has a default value of 0, (None for timezone).\n",
    "\n",
    "x = datetime.datetime(2010, 5, 17)\n",
    "print(x)"
   ]
  },
  {
   "cell_type": "markdown",
   "metadata": {},
   "source": [
    "# The strftime() Method\n",
    "> The datetime object has a method for formatting date objects into readable strings.\n",
    "\n",
    ">The method is called strftime(), and takes one parameter, format, to specify the format of the returned string:\n"
   ]
  },
  {
   "cell_type": "code",
   "execution_count": 34,
   "metadata": {},
   "outputs": [
    {
     "name": "stdout",
     "output_type": "stream",
     "text": [
      "June\n"
     ]
    }
   ],
   "source": [
    "# Display the name of the month\n",
    "import datetime\n",
    "x = datetime.datetime(2018, 6, 1)\n",
    "print(x.strftime(\"%B\"))    "
   ]
  },
  {
   "cell_type": "raw",
   "metadata": {},
   "source": [
    "%a\tWeekday, short version\tWed\t\n",
    "%A\tWeekday, full version\tWednesday\t\n",
    "%w\tWeekday as a number 0-6, 0 is Sunday\t3\t\n",
    "%d\tDay of month 01-31\t31\t\n",
    "%b\tMonth name, short version\tDec\t\n",
    "%B\tMonth name, full version\tDecember\t\n",
    "%m\tMonth as a number 01-12\t12\t\n",
    "%y\tYear, short version, without century\t18\t\n",
    "%Y\tYear, full version\t2018\t\n",
    "%H\tHour 00-23\t17\t\n",
    "%I\tHour 00-12\t05\t\n",
    "%p\tAM/PM\tPM\t\n",
    "%M\tMinute 00-59\t41\t\n",
    "%S\tSecond 00-59\t08\t\n",
    "%f\tMicrosecond 000000-999999\t548513\t\n",
    "%z\tUTC offset\t+0100\t\n",
    "%Z\tTimezone\tCST\t\n",
    "%j\tDay number of year 001-366\t365\t\n",
    "%U\tWeek number of year, Sunday as the first day of week, 00-53\t52\t\n",
    "%W\tWeek number of year, Monday as the first day of week, 00-53\t52\t\n",
    "%c\tLocal version of date and time\tMon Dec 31 17:41:00 2018\t\n",
    "%x\tLocal version of date\t12/31/18\t\n",
    "%X\tLocal version of time\t17:41:00\t\n",
    "%%\tA % character\t%"
   ]
  },
  {
   "cell_type": "markdown",
   "metadata": {},
   "source": [
    "# JSON\n",
    ">JSON is a syntax for storing and exchanging data.\n",
    "\n",
    ">JSON is text, written with JavaScript object notation.\n"
   ]
  },
  {
   "cell_type": "code",
   "execution_count": 35,
   "metadata": {},
   "outputs": [
    {
     "name": "stdout",
     "output_type": "stream",
     "text": [
      "30\n"
     ]
    }
   ],
   "source": [
    "import json\n",
    "\n",
    "# some JSON:\n",
    "x =  '{ \"name\":\"John\", \"age\":30, \"city\":\"New York\"}'\n",
    "\n",
    "# parse x:\n",
    "y = json.loads(x)\n",
    "\n",
    "# the result is a Python dictionary:\n",
    "print(y[\"age\"])\n",
    "\n",
    "# works like dictniory to me"
   ]
  },
  {
   "cell_type": "markdown",
   "metadata": {},
   "source": [
    "# Converting Python Object (Dict) to JSON"
   ]
  },
  {
   "cell_type": "code",
   "execution_count": 73,
   "metadata": {},
   "outputs": [
    {
     "name": "stdout",
     "output_type": "stream",
     "text": [
      "{'name': 'Kunal', 'age': '21', 'gender': 'M', 'country': 'India'}\n",
      "{\n",
      "  \"name\": \"Kunal\",\n",
      "  \"age\": \"21\",\n",
      "  \"gender\": \"M\",\n",
      "  \"country\": \"India\"\n",
      "}\n"
     ]
    }
   ],
   "source": [
    "import json \n",
    "\n",
    "# create a dict\n",
    "dict = {\n",
    "    \"name\":\"Kunal\",\n",
    "    \"age\":\"21\",\n",
    "    \"gender\":\"M\",\n",
    "    \"country\":\"India\"\n",
    "}\n",
    "\n",
    "y = json.dumps(dict ,indent = 2 )\n",
    "print(dict)\n",
    "print(y)\n"
   ]
  },
  {
   "cell_type": "code",
   "execution_count": 54,
   "metadata": {},
   "outputs": [],
   "source": [
    "# can we dump this obj into a file\n",
    "\n",
    "f  = open(\"rawjson.txt\",\"w\")\n",
    "json.dump(dict,f)\n",
    "f.close()\n",
    "\n",
    "f  = open(\"rawjson2.txt\",\"w\")\n",
    "json.dump(y,f)\n",
    "f.close()\n"
   ]
  },
  {
   "cell_type": "code",
   "execution_count": 55,
   "metadata": {},
   "outputs": [
    {
     "name": "stdout",
     "output_type": "stream",
     "text": [
      "{\"name\": \"Kunal\", \"age\": \"21\", \"gender\": \"M\", \"country\": \"India\"}\n",
      "\"{\\\"name\\\": \\\"Kunal\\\", \\\"age\\\": \\\"21\\\", \\\"gender\\\": \\\"M\\\", \\\"country\\\": \\\"India\\\"}\"\n"
     ]
    }
   ],
   "source": [
    "f = open(\"rawjson.txt\",\"r\")\n",
    "print(f.read())\n",
    "f.close()\n",
    "\n",
    "f = open(\"rawjson2.txt\",\"r\")\n",
    "print(f.read())\n",
    "f.close()"
   ]
  },
  {
   "cell_type": "code",
   "execution_count": 61,
   "metadata": {},
   "outputs": [
    {
     "name": "stdout",
     "output_type": "stream",
     "text": [
      "{\"name\": \"John\", \"age\": 30}\n",
      "[\"apple\", \"bananas\"]\n",
      "[\"apple\", \"bananas\"]\n",
      "\"hello\"\n",
      "42\n",
      "31.76\n",
      "true\n",
      "false\n",
      "null\n"
     ]
    }
   ],
   "source": [
    "# You can convert Python objects of the following types, into JSON strings:\n",
    "\n",
    "print(json.dumps({\"name\": \"John\", \"age\": 30}))\n",
    "print(json.dumps([\"apple\", \"bananas\"]))\n",
    "print(json.dumps((\"apple\", \"bananas\")))\n",
    "print(json.dumps(\"hello\"))\n",
    "print(json.dumps(42))\n",
    "print(json.dumps(31.76))\n",
    "print(json.dumps(True))\n",
    "print(json.dumps(False))\n",
    "print(json.dumps(None))"
   ]
  },
  {
   "cell_type": "code",
   "execution_count": 68,
   "metadata": {},
   "outputs": [],
   "source": [
    "# lets dump all these as json\n",
    "a = json.dumps({\"name\": \"John\", \"age\": 30}) \n",
    "b = json.dumps([\"apple\", \"bananas\"])\n",
    "c = json.dumps((\"apple\", \"bananas\")) \n",
    "d = json.dumps(\"hello\") \n",
    "e = json.dumps(42)\n",
    "f = json.dumps(31.76)\n",
    "g = json.dumps(True) \n",
    "h = json.dumps(None)\n",
    "\n",
    "s = a+b+c+d+e+f+g+h\n",
    "\n",
    "f  = open(\"rawjson3.txt\",\"w\")\n",
    "json.dump(s,f)\n",
    "f.close()\n"
   ]
  },
  {
   "cell_type": "code",
   "execution_count": 69,
   "metadata": {},
   "outputs": [
    {
     "name": "stdout",
     "output_type": "stream",
     "text": [
      "\"{\\\"name\\\": \\\"John\\\", \\\"age\\\": 30}[\\\"apple\\\", \\\"bananas\\\"][\\\"apple\\\", \\\"bananas\\\"]\\\"hello\\\"4231.76truenull\"\n"
     ]
    }
   ],
   "source": [
    "f = open(\"rawjson3.txt\",\"r\")\n",
    "print(f.read())\n",
    "f.close()"
   ]
  },
  {
   "cell_type": "code",
   "execution_count": 76,
   "metadata": {},
   "outputs": [
    {
     "name": "stdout",
     "output_type": "stream",
     "text": [
      "{\n",
      "    \"name\": \"John\",\n",
      "    \"age\": 30,\n",
      "    \"married\": true,\n",
      "    \"divorced\": false,\n",
      "    \"children\": [\n",
      "        \"Ann\",\n",
      "        \"Billy\"\n",
      "    ],\n",
      "    \"pets\": null,\n",
      "    \"cars\": [\n",
      "        {\n",
      "            \"model\": \"BMW 230\",\n",
      "            \"mpg\": 27.5\n",
      "        },\n",
      "        {\n",
      "            \"model\": \"Ford Edge\",\n",
      "            \"mpg\": 24.1\n",
      "        }\n",
      "    ]\n",
      "}\n",
      "***************************************************\n",
      "{\n",
      "    \"age\": 30,\n",
      "    \"cars\": [\n",
      "        {\n",
      "            \"model\": \"BMW 230\",\n",
      "            \"mpg\": 27.5\n",
      "        },\n",
      "        {\n",
      "            \"model\": \"Ford Edge\",\n",
      "            \"mpg\": 24.1\n",
      "        }\n",
      "    ],\n",
      "    \"children\": [\n",
      "        \"Ann\",\n",
      "        \"Billy\"\n",
      "    ],\n",
      "    \"divorced\": false,\n",
      "    \"married\": true,\n",
      "    \"name\": \"John\",\n",
      "    \"pets\": null\n",
      "}\n"
     ]
    }
   ],
   "source": [
    "import json\n",
    "\n",
    "x = {\n",
    "  \"name\": \"John\",\n",
    "  \"age\": 30,\n",
    "  \"married\": True,\n",
    "  \"divorced\": False,\n",
    "  \"children\": (\"Ann\",\"Billy\"),\n",
    "  \"pets\": None,\n",
    "  \"cars\": [\n",
    "    {\"model\": \"BMW 230\", \"mpg\": 27.5},\n",
    "    {\"model\": \"Ford Edge\", \"mpg\": 24.1}\n",
    "  ]\n",
    "}\n",
    "\n",
    "print(json.dumps(x, indent=4))\n",
    "print('***************************************************')\n",
    "print(json.dumps(x, indent=4 ,sort_keys= True))   # sorted on keys"
   ]
  },
  {
   "cell_type": "code",
   "execution_count": null,
   "metadata": {},
   "outputs": [],
   "source": []
  }
 ],
 "metadata": {
  "kernelspec": {
   "display_name": "Python 3",
   "language": "python",
   "name": "python3"
  },
  "language_info": {
   "codemirror_mode": {
    "name": "ipython",
    "version": 3
   },
   "file_extension": ".py",
   "mimetype": "text/x-python",
   "name": "python",
   "nbconvert_exporter": "python",
   "pygments_lexer": "ipython3",
   "version": "3.7.6"
  }
 },
 "nbformat": 4,
 "nbformat_minor": 4
}
