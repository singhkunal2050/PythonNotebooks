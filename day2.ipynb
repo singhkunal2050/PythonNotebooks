{
 "cells": [
  {
   "cell_type": "code",
   "execution_count": 35,
   "metadata": {},
   "outputs": [
    {
     "name": "stdout",
     "output_type": "stream",
     "text": [
      "3\n"
     ]
    }
   ],
   "source": [
    "#two modes in python script and interpreter\n",
    "\n",
    "a = 1\n",
    "b = 2\n",
    "c= a+b \n",
    "print(c)"
   ]
  },
  {
   "cell_type": "code",
   "execution_count": 1,
   "metadata": {},
   "outputs": [
    {
     "data": {
      "text/plain": [
       "'C:\\\\Users\\\\Admin\\\\Desktop\\\\pythonLetsUpgrade'"
      ]
     },
     "execution_count": 1,
     "metadata": {},
     "output_type": "execute_result"
    }
   ],
   "source": [
    "import os \n",
    "os.getcwd()"
   ]
  },
  {
   "cell_type": "code",
   "execution_count": 19,
   "metadata": {},
   "outputs": [
    {
     "name": "stdout",
     "output_type": "stream",
     "text": [
      "Value os X::  23  and y:: 42\n",
      "Value os X:: 23 y:: 42 \n"
     ]
    }
   ],
   "source": [
    "# catenating string with dff types\n",
    "\n",
    "x = 23\n",
    "y = 42\n",
    "\n",
    "print('Value os X:: ', x ,' and y::',y )\n",
    "print(\"Value os X:: {0:2d} y:: {1:d} \".format(x,y))\n",
    "\n"
   ]
  },
  {
   "cell_type": "code",
   "execution_count": 2,
   "metadata": {},
   "outputs": [
    {
     "data": {
      "text/plain": [
       "3"
      ]
     },
     "execution_count": 2,
     "metadata": {},
     "output_type": "execute_result"
    }
   ],
   "source": [
    "a\n",
    "b\n",
    "c\n"
   ]
  },
  {
   "cell_type": "code",
   "execution_count": 3,
   "metadata": {},
   "outputs": [
    {
     "name": "stdout",
     "output_type": "stream",
     "text": [
      "1\n",
      "2\n",
      "3\n"
     ]
    }
   ],
   "source": [
    "print(a)\n",
    "print(b)\n",
    "print(c)"
   ]
  },
  {
   "cell_type": "code",
   "execution_count": 30,
   "metadata": {},
   "outputs": [
    {
     "data": {
      "text/plain": [
       "'Kunal_is_good anisha_is_bad '"
      ]
     },
     "execution_count": 30,
     "metadata": {},
     "output_type": "execute_result"
    }
   ],
   "source": [
    "str1  = \"Kunal_is_good \"\n",
    "str2  = \"anisha_is_bad \"\n",
    "str3 = str1 + str2\n",
    "str3"
   ]
  },
  {
   "cell_type": "code",
   "execution_count": 31,
   "metadata": {},
   "outputs": [
    {
     "name": "stdout",
     "output_type": "stream",
     "text": [
      "_is_go\n"
     ]
    }
   ],
   "source": [
    "# slicing in python\n",
    "\n",
    "print(str3[5:11])\n"
   ]
  },
  {
   "cell_type": "code",
   "execution_count": 32,
   "metadata": {},
   "outputs": [
    {
     "name": "stdout",
     "output_type": "stream",
     "text": [
      "l\n"
     ]
    }
   ],
   "source": [
    "print(str3[4])"
   ]
  },
  {
   "cell_type": "code",
   "execution_count": 35,
   "metadata": {},
   "outputs": [
    {
     "name": "stdout",
     "output_type": "stream",
     "text": [
      "d\n"
     ]
    }
   ],
   "source": [
    "print(str3[-2])"
   ]
  },
  {
   "cell_type": "code",
   "execution_count": 39,
   "metadata": {},
   "outputs": [
    {
     "name": "stdout",
     "output_type": "stream",
     "text": [
      "['ha_is_ba']\n"
     ]
    }
   ],
   "source": [
    "# first index is always smaller for slicing \n",
    "\n",
    "print([str3[-10:-2]])\n"
   ]
  },
  {
   "cell_type": "markdown",
   "metadata": {},
   "source": [
    "# KEYWORS\n"
   ]
  },
  {
   "cell_type": "raw",
   "metadata": {},
   "source": [
    "\n",
    "and\tA logical operator\n",
    "as\tTo create an alias\n",
    "assert\tFor debugging\n",
    "break\tTo break out of a loop\n",
    "class\tTo define a class\n",
    "continue\tTo continue to the next iteration of a loop\n",
    "def\tTo define a function\n",
    "del\tTo delete an object\n",
    "elif\tUsed in conditional statements, same as else if\n",
    "else\tUsed in conditional statements\n",
    "except\tUsed with exceptions, what to do when an exception occurs\n",
    "False\tBoolean value, result of comparison operations\n",
    "finally\tUsed with exceptions, a block of code that will be executed no matter if there is an exception or not\n",
    "for\tTo create a for loop\n",
    "from\tTo import specific parts of a module\n",
    "global\tTo declare a global variable\n",
    "if\tTo make a conditional statement\n",
    "import\tTo import a module\n",
    "in\tTo check if a value is present in a list, tuple, etc.\n",
    "is\tTo test if two variables are equal\n",
    "lambda\tTo create an anonymous function\n",
    "None\tRepresents a null value\n",
    "nonlocal\tTo declare a non-local variable\n",
    "not\tA logical operator\n",
    "or\tA logical operator\n",
    "pass\tA null statement, a statement that will do nothing\n",
    "raise\tTo raise an exception\n",
    "return\tTo exit a function and return a value\n",
    "True\tBoolean value, result of comparison operations\n",
    "try\tTo make a try...except statement\n",
    "while\tTo create a while loop\n",
    "with\tUsed to simplify exception handling\n",
    "yield\tTo end a function, returns a generator\n",
    "\n"
   ]
  },
  {
   "cell_type": "code",
   "execution_count": 20,
   "metadata": {},
   "outputs": [
    {
     "name": "stdout",
     "output_type": "stream",
     "text": [
      "('Kunal', 23, 2000, 'Pune')\n"
     ]
    }
   ],
   "source": [
    "#ccomma separated numbers or data is considered as tuple\n",
    "\n",
    "a = 'Kunal',23,2000,'Pune'\n",
    "print(a)\n"
   ]
  },
  {
   "cell_type": "code",
   "execution_count": 27,
   "metadata": {},
   "outputs": [
    {
     "name": "stdout",
     "output_type": "stream",
     "text": [
      "10\n",
      "12.2\n",
      "Stirng sad\n",
      "(12, 24, 2452, 'Kunla')\n",
      "[32, 42, 42, 'Kdjkasdas']\n",
      "[23, 321, 4, 42, 22, 44, 22, 44]\n",
      "---------------------Lets do Type Casting-------------------------\n",
      "12\n",
      "10.0\n",
      "[23, 321, 4, 42, 22, 44, 22, 44]\n",
      "{32, 42, 'Kdjkasdas'}\n",
      "[12, 24, 2452, 'Kunla']\n",
      "['S', 't', 'i', 'r', 'n', 'g', ' ', 's', 'a', 'd']\n"
     ]
    }
   ],
   "source": [
    "# Ttype Casting\n",
    "\n",
    "i = 10  #int \n",
    "f = 12.2  #float \n",
    "s = 'Stirng sad'  #string\n",
    "tup = (12,24,2452,'Kunla')        #tuple\n",
    "li = [32,42,42,'Kdjkasdas']     #list\n",
    "se = [23,321,4,42,22,44,22,44]   #set\n",
    "\n",
    "print(i)\n",
    "print(f)\n",
    "print(s)\n",
    "print(tup)\n",
    "print(li)\n",
    "print(se)\n",
    "\n",
    "print(\"---------------------Lets do Type Casting-------------------------\")\n",
    "\n",
    "print(int(f))\n",
    "print(float(i))\n",
    "print(list(se))\n",
    "print(set(li))\n",
    "print(list(tup))\n",
    "print(list(s))\n"
   ]
  },
  {
   "cell_type": "code",
   "execution_count": 31,
   "metadata": {},
   "outputs": [
    {
     "name": "stdout",
     "output_type": "stream",
     "text": [
      "1000\n"
     ]
    }
   ],
   "source": [
    "# ** is used for ^\n",
    "\n",
    "a = 10\n",
    "b = 3\n",
    "\n",
    "print(a**b)\n"
   ]
  },
  {
   "cell_type": "code",
   "execution_count": 34,
   "metadata": {},
   "outputs": [
    {
     "name": "stdout",
     "output_type": "stream",
     "text": [
      "24.0\n"
     ]
    }
   ],
   "source": [
    "# Precedence and Priority\n",
    "\n",
    "\"\"\"\n",
    "**\n",
    "()\n",
    "*\n",
    "/\n",
    "+\n",
    "-\n",
    "\"\"\"\n",
    "print(1+(2**2)*23/4)\n"
   ]
  },
  {
   "cell_type": "code",
   "execution_count": null,
   "metadata": {},
   "outputs": [],
   "source": []
  }
 ],
 "metadata": {
  "kernelspec": {
   "display_name": "Python 3",
   "language": "python",
   "name": "python3"
  },
  "language_info": {
   "codemirror_mode": {
    "name": "ipython",
    "version": 3
   },
   "file_extension": ".py",
   "mimetype": "text/x-python",
   "name": "python",
   "nbconvert_exporter": "python",
   "pygments_lexer": "ipython3",
   "version": "3.7.6"
  }
 },
 "nbformat": 4,
 "nbformat_minor": 4
}
