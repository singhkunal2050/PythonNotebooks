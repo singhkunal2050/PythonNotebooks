{
 "cells": [
  {
   "cell_type": "code",
   "execution_count": 8,
   "metadata": {},
   "outputs": [
    {
     "name": "stdout",
     "output_type": "stream",
     "text": [
      "Number cannot contain anything other than 1|0\n",
      "YES WE CAN\n",
      "YES WE CAN\n",
      "YES WE CAN\n",
      "Nooooooooooo!\n",
      "Number cannot contain anything other than 1|0\n"
     ]
    }
   ],
   "source": [
    "# make a number have same dig by flipping just one dig 1|0\n",
    "\n",
    "def check(no):\n",
    "    n = list(str(no))\n",
    "    l = len(n)\n",
    "    if(n.count('0') + n.count('1') != l):\n",
    "        print('Number cannot contain anything other than 1|0')\n",
    "    elif(n.count('0')==1 or n.count('1')==1):\n",
    "        print(\"YES WE CAN\")\n",
    "    else :\n",
    "        print('Nooooooooooo!')\n",
    "    \n",
    "check(121232)\n",
    "check(100000)\n",
    "check(111110)\n",
    "check(111101111)\n",
    "check(1000001)\n",
    "check(2650001)"
   ]
  },
  {
   "cell_type": "code",
   "execution_count": null,
   "metadata": {},
   "outputs": [],
   "source": []
  }
 ],
 "metadata": {
  "kernelspec": {
   "display_name": "Python 3",
   "language": "python",
   "name": "python3"
  },
  "language_info": {
   "codemirror_mode": {
    "name": "ipython",
    "version": 3
   },
   "file_extension": ".py",
   "mimetype": "text/x-python",
   "name": "python",
   "nbconvert_exporter": "python",
   "pygments_lexer": "ipython3",
   "version": "3.7.6"
  }
 },
 "nbformat": 4,
 "nbformat_minor": 4
}
