{
 "cells": [
  {
   "cell_type": "code",
   "execution_count": 17,
   "metadata": {},
   "outputs": [
    {
     "name": "stdout",
     "output_type": "stream",
     "text": [
      "A B C D E F G H I J K L M N O P Q R S T U V W X Y Z \n",
      "a b c d e f g h i j k l m n o p q r s t u v w x y z "
     ]
    }
   ],
   "source": [
    "# ass1 \n",
    "# count the total nos of holes in the given string \n",
    "for i in range(65,91,1):\n",
    "    print(\"{0:c}\".format(i),end=\" \")\n",
    "print()\n",
    "for i in range(97,123,1):\n",
    "    print(\"{0:c}\".format(i),end=\" \")\n"
   ]
  },
  {
   "cell_type": "code",
   "execution_count": 1,
   "metadata": {},
   "outputs": [
    {
     "name": "stdout",
     "output_type": "stream",
     "text": [
      "Please enter a String :: Kunal is my mame and Bird is mt \\\\y QbAa\n",
      "The Total no of holes are 12\n",
      "\n",
      "The characters are::\n",
      "a a e a d B d Q b A a Want to try again =>1 else=>00\n"
     ]
    }
   ],
   "source": [
    "def countHoles(str):\n",
    "    holes=0\n",
    "    indexes = []\n",
    "    \n",
    "    for i in range(len(str)):\n",
    "        if(str[i]==\"A\" or str[i]==\"a\" or str[i]==\"b\" or str[i]==\"D\" or str[i]==\"d\" or str[i]==\"e\" or str[i]==\"g\" or str[i]==\"O\" or str[i]==\"o\" or str[i]==\"P\" or str[i]==\"p\" or str[i]==\"Q\" or str[i]==\"q\" or str[i]==\"R\"):\n",
    "            holes=holes+1;\n",
    "            indexes.append(i)\n",
    "        elif(str[i]==\"B\"):\n",
    "            holes=holes+2;\n",
    "            indexes.append(i) \n",
    "    print(\"The Total no of holes are {0:d}\\n\".format(holes));\n",
    "    print('The characters are::')\n",
    "    for i in indexes:\n",
    "        print(str[i] , end = \" \")\n",
    "        \n",
    "flag = 1 \n",
    "\n",
    "while(flag==1):\n",
    "    str = input('Please enter a String :: ')\n",
    "    countHoles(str)\n",
    "    flag = int(input('Want to try again =>1 else=>0'))"
   ]
  },
  {
   "cell_type": "code",
   "execution_count": null,
   "metadata": {},
   "outputs": [],
   "source": [
    "# ass 2 \n",
    "# notebook of map and lambda"
   ]
  },
  {
   "cell_type": "markdown",
   "metadata": {},
   "source": [
    "# MAP "
   ]
  },
  {
   "cell_type": "code",
   "execution_count": null,
   "metadata": {},
   "outputs": [],
   "source": [
    "# map(function, iterable)\n",
    "\n",
    "# without map\n",
    "\n",
    "def sqr(a):\n",
    "    return a*a\n",
    "\n",
    "print(sqr(4))\n",
    "\n"
   ]
  },
  {
   "cell_type": "code",
   "execution_count": null,
   "metadata": {},
   "outputs": [],
   "source": [
    "# with map\n",
    "\n",
    "x = map(sqr , [1,2,3,4,5])\n",
    "print(list(x))"
   ]
  },
  {
   "cell_type": "code",
   "execution_count": null,
   "metadata": {},
   "outputs": [],
   "source": [
    "import random \n",
    "def subtract(m,n):\n",
    "    return m-n\n",
    "\n",
    "result = map(subtract , [5,4,3,2,1],[1,2,3,4,5])\n",
    "print(list(result))"
   ]
  },
  {
   "cell_type": "markdown",
   "metadata": {},
   "source": [
    "# LAmda Function"
   ]
  },
  {
   "cell_type": "code",
   "execution_count": null,
   "metadata": {},
   "outputs": [],
   "source": [
    "# single line function which do not have a name \n",
    "\n",
    "a = lambda x,y : x + y\n",
    "\n",
    "print(a(5,9))\n"
   ]
  },
  {
   "cell_type": "code",
   "execution_count": null,
   "metadata": {},
   "outputs": [],
   "source": [
    "# combo of def and lambda\n",
    "\n",
    "def myfun(x):\n",
    "    return lambda y:x+y\n",
    "\n",
    "result = myfun(4)\n",
    "print(result)\n",
    "print(result(99))\n"
   ]
  },
  {
   "cell_type": "code",
   "execution_count": null,
   "metadata": {},
   "outputs": [],
   "source": []
  },
  {
   "cell_type": "code",
   "execution_count": null,
   "metadata": {},
   "outputs": [],
   "source": []
  },
  {
   "cell_type": "code",
   "execution_count": null,
   "metadata": {},
   "outputs": [],
   "source": []
  }
 ],
 "metadata": {
  "kernelspec": {
   "display_name": "Python 3",
   "language": "python",
   "name": "python3"
  },
  "language_info": {
   "codemirror_mode": {
    "name": "ipython",
    "version": 3
   },
   "file_extension": ".py",
   "mimetype": "text/x-python",
   "name": "python",
   "nbconvert_exporter": "python",
   "pygments_lexer": "ipython3",
   "version": "3.7.6"
  }
 },
 "nbformat": 4,
 "nbformat_minor": 4
}
