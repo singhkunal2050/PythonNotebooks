{
 "cells": [
  {
   "cell_type": "code",
   "execution_count": 28,
   "metadata": {},
   "outputs": [],
   "source": [
    "# day 4 assignments\n",
    "\n",
    "# assignment 1  find if theres a sublist 1,1,5 in a superlist or not\n"
   ]
  },
  {
   "cell_type": "code",
   "execution_count": 27,
   "metadata": {},
   "outputs": [
    {
     "name": "stdout",
     "output_type": "stream",
     "text": [
      "Yes, list1 contains all elements in list2\n"
     ]
    }
   ],
   "source": [
    "\n",
    "list1 = [1,2,3,4,5,56,7]\n",
    "list2 = [1,4]\n",
    "\n",
    "result =  all(elem in list1  for elem in list2)\n",
    "if result:\n",
    "    print(\"Yes, list1 contains all elements in list2\")    \n",
    "else :\n",
    "    print(\"No, list1 does not contains all elements in list2\")\n"
   ]
  },
  {
   "cell_type": "code",
   "execution_count": null,
   "metadata": {},
   "outputs": [],
   "source": []
  }
 ],
 "metadata": {
  "kernelspec": {
   "display_name": "Python 3",
   "language": "python",
   "name": "python3"
  },
  "language_info": {
   "codemirror_mode": {
    "name": "ipython",
    "version": 3
   },
   "file_extension": ".py",
   "mimetype": "text/x-python",
   "name": "python",
   "nbconvert_exporter": "python",
   "pygments_lexer": "ipython3",
   "version": "3.7.6"
  }
 },
 "nbformat": 4,
 "nbformat_minor": 4
}
