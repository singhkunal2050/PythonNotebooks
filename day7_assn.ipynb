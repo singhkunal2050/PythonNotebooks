{
 "cells": [
  {
   "cell_type": "markdown",
   "metadata": {},
   "source": [
    "# Advance Functions\n",
    "> Map \n",
    "\n",
    "> filter \n",
    "\n",
    "> lambda \n",
    "\n",
    "> reduce"
   ]
  },
  {
   "cell_type": "code",
   "execution_count": 1,
   "metadata": {},
   "outputs": [
    {
     "name": "stdout",
     "output_type": "stream",
     "text": [
      "[10, 1378, 3, 1, 11476, 131328, 1431]\n",
      "[15, 21, 5928846, 7381, 9105778, 28]\n"
     ]
    }
   ],
   "source": [
    "# map \n",
    "# used to call a function with a chunk of values\n",
    "\n",
    "def addtill(n):\n",
    "    s=0\n",
    "    for i in range(n+1):\n",
    "        s = s + i\n",
    "    return s\n",
    "\n",
    "li = [4,52,2,1,151,512,53]\n",
    "tu = 5,6,3443,121,4267,7\n",
    "\n",
    "result = map(addtill,li)\n",
    "result2 = map(addtill,tu)\n",
    "\n",
    "print(list(result))\n",
    "print(list(result2))\n"
   ]
  },
  {
   "cell_type": "code",
   "execution_count": 2,
   "metadata": {},
   "outputs": [
    {
     "name": "stdout",
     "output_type": "stream",
     "text": [
      "48\n",
      "[14, 38, 60, 834, 84, 11]\n",
      "<map object at 0x000002AB32C82808>\n"
     ]
    }
   ],
   "source": [
    "# using map with lambda function \n",
    "# anonymous function\n",
    "# used when function is only needed only \n",
    "# inside as input to other function\n",
    "\n",
    "x = lambda x,y:x+y\n",
    "print(x(3,45))\n",
    "\n",
    "li=[2,4,5,67,2,1]\n",
    "li2=[12,34,55,767,82,10]\n",
    "\n",
    "result = map(x,li,li2)\n",
    "print(list(result))\n",
    "print(result)"
   ]
  },
  {
   "cell_type": "code",
   "execution_count": 3,
   "metadata": {},
   "outputs": [
    {
     "name": "stdout",
     "output_type": "stream",
     "text": [
      "<function thisfun.<locals>.<lambda> at 0x000002AB32C609D8>\n",
      "23\n"
     ]
    }
   ],
   "source": [
    "# assigning a labda function to a variabke using a normal function\n",
    "\n",
    "def thisfun(x):\n",
    "    return lambda y:x+y\n",
    "\n",
    "r = thisfun(12)\n",
    "print(r)\n",
    "print(r(11))\n"
   ]
  },
  {
   "cell_type": "code",
   "execution_count": 4,
   "metadata": {},
   "outputs": [
    {
     "name": "stdout",
     "output_type": "stream",
     "text": [
      "[246, 237, 37, 24, 6, 5, 26]\n"
     ]
    }
   ],
   "source": [
    "# defining lamda within map \n",
    "\n",
    "li = [243,234,34,21,3,2,23]\n",
    "result = map( lambda x:x+3 , li)\n",
    "print(list(result))"
   ]
  },
  {
   "cell_type": "markdown",
   "metadata": {},
   "source": [
    "# filter\n",
    ">Getting some elements out of an existing array and creating a new array out of them is called filtering."
   ]
  },
  {
   "cell_type": "code",
   "execution_count": 5,
   "metadata": {},
   "outputs": [
    {
     "name": "stdout",
     "output_type": "stream",
     "text": [
      "<filter object at 0x000002AB32C8CB48>\n",
      "[-4, 4, 534, 432, 2, 32, 5656]\n"
     ]
    }
   ],
   "source": [
    "li = [-4,-85,4,534,432,2,3,32,23,5656]\n",
    "\n",
    "def isEven(n):\n",
    "    if(n%2==0):\n",
    "        return n\n",
    "r = filter(isEven,li)\n",
    "print(r)\n",
    "print(list(r))              # only even results stored in array\n"
   ]
  },
  {
   "cell_type": "code",
   "execution_count": 6,
   "metadata": {},
   "outputs": [
    {
     "ename": "TypeError",
     "evalue": "unsupported operand type(s) for *: 'function' and 'function'",
     "output_type": "error",
     "traceback": [
      "\u001b[1;31m---------------------------------------------------------------------------\u001b[0m",
      "\u001b[1;31mTypeError\u001b[0m                                 Traceback (most recent call last)",
      "\u001b[1;32m<ipython-input-6-ab46a69ce2b5>\u001b[0m in \u001b[0;36m<module>\u001b[1;34m\u001b[0m\n\u001b[1;32m----> 1\u001b[1;33m \u001b[0mr\u001b[0m \u001b[1;33m=\u001b[0m \u001b[0mfilter\u001b[0m\u001b[1;33m(\u001b[0m\u001b[1;32mlambda\u001b[0m \u001b[0mx\u001b[0m\u001b[1;33m:\u001b[0m\u001b[0mx\u001b[0m\u001b[1;33m>=\u001b[0m\u001b[1;36m3\u001b[0m \u001b[1;33m,\u001b[0m \u001b[0mx\u001b[0m\u001b[1;33m*\u001b[0m\u001b[0mx\u001b[0m \u001b[1;33m,\u001b[0m\u001b[1;33m[\u001b[0m\u001b[1;36m1\u001b[0m\u001b[1;33m,\u001b[0m\u001b[1;36m2\u001b[0m\u001b[1;33m,\u001b[0m\u001b[1;36m3\u001b[0m\u001b[1;33m,\u001b[0m\u001b[1;36m4\u001b[0m\u001b[1;33m,\u001b[0m\u001b[1;33m]\u001b[0m\u001b[1;33m)\u001b[0m\u001b[1;33m\u001b[0m\u001b[1;33m\u001b[0m\u001b[0m\n\u001b[0m\u001b[0;32m      2\u001b[0m \u001b[0mprint\u001b[0m\u001b[1;33m(\u001b[0m\u001b[0mlist\u001b[0m\u001b[1;33m(\u001b[0m\u001b[0mr\u001b[0m\u001b[1;33m)\u001b[0m\u001b[1;33m)\u001b[0m\u001b[1;33m\u001b[0m\u001b[1;33m\u001b[0m\u001b[0m\n",
      "\u001b[1;31mTypeError\u001b[0m: unsupported operand type(s) for *: 'function' and 'function'"
     ]
    }
   ],
   "source": [
    "r = filter(lambda x:x>=3 , x*x ,[1,2,3,4,])\n",
    "print(list(r))"
   ]
  },
  {
   "cell_type": "markdown",
   "metadata": {},
   "source": [
    "# reduce\n",
    "> reduce ( function , iterable)\n",
    "\n",
    "> does a cumulative opearion on the list "
   ]
  },
  {
   "cell_type": "code",
   "execution_count": 7,
   "metadata": {},
   "outputs": [
    {
     "name": "stdout",
     "output_type": "stream",
     "text": [
      "15\n"
     ]
    }
   ],
   "source": [
    "from  functools import reduce\n",
    "\n",
    "li = [1,2,3,4,5]\n",
    "\n",
    "def sqr(a,b):\n",
    "    return a+b \n",
    "\n",
    "x = reduce(sqr,li)\n",
    "print(x)\n"
   ]
  },
  {
   "cell_type": "code",
   "execution_count": 8,
   "metadata": {},
   "outputs": [
    {
     "name": "stdout",
     "output_type": "stream",
     "text": [
      "0.008333333333333333\n",
      "0.008333333333333333\n"
     ]
    }
   ],
   "source": [
    "r = reduce(lambda x,y:x/y,li)\n",
    "print(r)\n",
    "print((((1/2)/3)/4)/5)                 # cumulative results simulation results\n"
   ]
  },
  {
   "cell_type": "code",
   "execution_count": 10,
   "metadata": {},
   "outputs": [
    {
     "ename": "NameError",
     "evalue": "name 'y' is not defined",
     "output_type": "error",
     "traceback": [
      "\u001b[1;31m---------------------------------------------------------------------------\u001b[0m",
      "\u001b[1;31mNameError\u001b[0m                                 Traceback (most recent call last)",
      "\u001b[1;32m<ipython-input-10-01f91bfe1d7e>\u001b[0m in \u001b[0;36m<module>\u001b[1;34m\u001b[0m\n\u001b[1;32m----> 1\u001b[1;33m \u001b[0mr\u001b[0m \u001b[1;33m=\u001b[0m \u001b[0mfilter\u001b[0m\u001b[1;33m(\u001b[0m\u001b[1;32mlambda\u001b[0m \u001b[0mx\u001b[0m\u001b[1;33m,\u001b[0m\u001b[0my\u001b[0m\u001b[1;33m:\u001b[0m \u001b[0mx\u001b[0m\u001b[1;33m%\u001b[0m\u001b[1;36m2\u001b[0m\u001b[1;33m==\u001b[0m\u001b[1;36m0\u001b[0m\u001b[1;33m,\u001b[0m\u001b[0mx\u001b[0m\u001b[1;33m+\u001b[0m\u001b[0my\u001b[0m\u001b[1;33m,\u001b[0m\u001b[0mli\u001b[0m\u001b[1;33m)\u001b[0m\u001b[1;33m\u001b[0m\u001b[1;33m\u001b[0m\u001b[0m\n\u001b[0m\u001b[0;32m      2\u001b[0m \u001b[0mr\u001b[0m \u001b[1;33m=\u001b[0m \u001b[0mlist\u001b[0m\u001b[1;33m(\u001b[0m\u001b[0mr\u001b[0m\u001b[1;33m)\u001b[0m\u001b[1;33m\u001b[0m\u001b[1;33m\u001b[0m\u001b[0m\n\u001b[0;32m      3\u001b[0m \u001b[0mprint\u001b[0m\u001b[1;33m(\u001b[0m\u001b[0mr\u001b[0m\u001b[1;33m)\u001b[0m\u001b[1;33m\u001b[0m\u001b[1;33m\u001b[0m\u001b[0m\n\u001b[0;32m      4\u001b[0m \u001b[1;31m# (lambda x,y:x+y, filter(lambda x,y:x+y,li)) )\u001b[0m\u001b[1;33m\u001b[0m\u001b[1;33m\u001b[0m\u001b[1;33m\u001b[0m\u001b[0m\n",
      "\u001b[1;31mNameError\u001b[0m: name 'y' is not defined"
     ]
    }
   ],
   "source": [
    "r = filter(lambda x,y: x%2==0,x+y,li)\n",
    "r = list(r)\n",
    "print(r)\n",
    "# (lambda x,y:x+y, filter(lambda x,y:x+y,li)) )\n"
   ]
  },
  {
   "cell_type": "code",
   "execution_count": 9,
   "metadata": {},
   "outputs": [
    {
     "ename": "TypeError",
     "evalue": "<lambda>() missing 1 required positional argument: 'y'",
     "output_type": "error",
     "traceback": [
      "\u001b[1;31m---------------------------------------------------------------------------\u001b[0m",
      "\u001b[1;31mTypeError\u001b[0m                                 Traceback (most recent call last)",
      "\u001b[1;32m<ipython-input-9-fed72306dae8>\u001b[0m in \u001b[0;36m<module>\u001b[1;34m\u001b[0m\n\u001b[0;32m      2\u001b[0m \u001b[1;31m# r = map(lambda x,y:if ()x/y)\u001b[0m\u001b[1;33m\u001b[0m\u001b[1;33m\u001b[0m\u001b[1;33m\u001b[0m\u001b[0m\n\u001b[0;32m      3\u001b[0m \u001b[1;33m\u001b[0m\u001b[0m\n\u001b[1;32m----> 4\u001b[1;33m \u001b[0mreduce\u001b[0m\u001b[1;33m(\u001b[0m\u001b[1;32mlambda\u001b[0m \u001b[0mx\u001b[0m\u001b[1;33m,\u001b[0m\u001b[0my\u001b[0m\u001b[1;33m:\u001b[0m\u001b[0mx\u001b[0m\u001b[1;33m/\u001b[0m\u001b[0my\u001b[0m \u001b[1;33m,\u001b[0m \u001b[0mmap\u001b[0m \u001b[1;33m(\u001b[0m\u001b[1;32mlambda\u001b[0m \u001b[0mx\u001b[0m\u001b[1;33m,\u001b[0m\u001b[0my\u001b[0m\u001b[1;33m:\u001b[0m\u001b[0mx\u001b[0m\u001b[1;33m+\u001b[0m\u001b[0my\u001b[0m\u001b[1;33m,\u001b[0m \u001b[0mfilter\u001b[0m\u001b[1;33m(\u001b[0m\u001b[1;32mlambda\u001b[0m \u001b[0mx\u001b[0m\u001b[1;33m,\u001b[0m\u001b[0my\u001b[0m\u001b[1;33m:\u001b[0m\u001b[0mx\u001b[0m\u001b[1;33m+\u001b[0m\u001b[0my\u001b[0m\u001b[1;33m,\u001b[0m\u001b[0mli\u001b[0m\u001b[1;33m)\u001b[0m\u001b[1;33m)\u001b[0m \u001b[1;33m)\u001b[0m\u001b[1;33m\u001b[0m\u001b[1;33m\u001b[0m\u001b[0m\n\u001b[0m",
      "\u001b[1;31mTypeError\u001b[0m: <lambda>() missing 1 required positional argument: 'y'"
     ]
    }
   ],
   "source": [
    "li = [2,3,4,5,6,8,10]\n",
    "# r = map(lambda x,y:if ()x/y)\n",
    "\n",
    "reduce(lambda x,y:x/y , map (lambda x,y:x+y, filter(lambda x,y:x+y,li)) )"
   ]
  },
  {
   "cell_type": "markdown",
   "metadata": {},
   "source": [
    "> Write a Python program to add the digits of a positive integer repeatedly until the result has a\n",
    "single digit.\n",
    "Input Format:\n",
    "The first line of the input contains a number n.\n",
    "Output:\n",
    "Print the resultant number\n",
    "Example:\n",
    "Input:\n",
    "48\n",
    "Output:\n",
    "3\n",
    "Explanation: If you add digits 4 and 8, you will get 12. Again adding 1 and 2 will give 3\n",
    "which is a single digit and hence the answer."
   ]
  },
  {
   "cell_type": "code",
   "execution_count": 30,
   "metadata": {},
   "outputs": [
    {
     "name": "stdout",
     "output_type": "stream",
     "text": [
      "The Sum is  4\n",
      "None\n",
      "The Sum is  3\n",
      "None\n",
      "The Sum is  7\n",
      "None\n",
      "The Sum is  16\n",
      "None\n",
      "The Sum is  0\n",
      "None\n"
     ]
    }
   ],
   "source": [
    "def addno(no):\n",
    "    if(abs(no)>9):\n",
    "        s = 0\n",
    "        t = no\n",
    "        while(t>0):\n",
    "            s = s + t%10\n",
    "            t = t // 10\n",
    "        print('The Sum is ',s)\n",
    "    else:\n",
    "        print('The Sum is ',no)\n",
    "        \n",
    "print(addno(121))\n",
    "print(addno(12))\n",
    "print(addno(7))\n",
    "print(addno(91312))\n",
    "print(addno(-121))"
   ]
  },
  {
   "cell_type": "code",
   "execution_count": null,
   "metadata": {},
   "outputs": [],
   "source": []
  },
  {
   "cell_type": "code",
   "execution_count": null,
   "metadata": {},
   "outputs": [],
   "source": []
  }
 ],
 "metadata": {
  "kernelspec": {
   "display_name": "Python 3",
   "language": "python",
   "name": "python3"
  },
  "language_info": {
   "codemirror_mode": {
    "name": "ipython",
    "version": 3
   },
   "file_extension": ".py",
   "mimetype": "text/x-python",
   "name": "python",
   "nbconvert_exporter": "python",
   "pygments_lexer": "ipython3",
   "version": "3.7.6"
  }
 },
 "nbformat": 4,
 "nbformat_minor": 4
}
