{
 "cells": [
  {
   "cell_type": "markdown",
   "metadata": {},
   "source": [
    "# Operators \n",
    "\n",
    ">Arithmetic operators\n",
    "\n",
    ">Assignment operators\n",
    "\n",
    ">Relational operators\n",
    "\n",
    ">Logical operators\n",
    "\n",
    ">Identity operators\n",
    "\n",
    ">Membership operators\n",
    "\n",
    ">Bitwise operators\n"
   ]
  },
  {
   "cell_type": "code",
   "execution_count": 1,
   "metadata": {},
   "outputs": [
    {
     "name": "stdout",
     "output_type": "stream",
     "text": [
      "17.5\n",
      "17\n",
      "1\n",
      "1225\n",
      "70\n",
      "37\n",
      "33\n"
     ]
    }
   ],
   "source": [
    "# Arithematic Opeartors \n",
    "#  / // % ** * + - \n",
    "\n",
    "print(35/2)\n",
    "print(35//2)\n",
    "print(35%2)\n",
    "print(35**2)\n",
    "print(35*2)\n",
    "print(35+2)\n",
    "print(35-2)\n"
   ]
  },
  {
   "cell_type": "raw",
   "metadata": {},
   "source": [
    "# Assignment Opearators\n",
    "\n",
    "# short hands\n",
    "\n",
    "Operator\tExample\tSame As\tTry it\n",
    "=             x = 5           x = 5\n",
    "+=            x += 3           x = x + 3\n",
    "-=            x -= 3           x = x - 3\n",
    "*=            x *= 3           x = x * 3\n",
    "/=            x /= 3           x = x / 3\n",
    "%=            x %= 3           x = x % 3\n",
    "//=           x //= 3          x = x // 3\n",
    "**=           x **= 3          x = x ** 3\n",
    "&=            x &= 3           x = x & 3\n",
    "|=            x |= 3           x = x | 3\n",
    "^=            x ^= 3           x = x ^ 3\n",
    ">>=           x >>= 3         x = x >> 3\n",
    "<<=           x <<= 3         x = x << 3"
   ]
  },
  {
   "cell_type": "code",
   "execution_count": 3,
   "metadata": {},
   "outputs": [
    {
     "name": "stdout",
     "output_type": "stream",
     "text": [
      "False\n",
      "False\n",
      "True\n",
      "True\n",
      "True\n",
      "False\n"
     ]
    }
   ],
   "source": [
    "# Relational Operator\n",
    "# < > <= >= != ==\n",
    "\n",
    "print(5<4)\n",
    "print(5<=4)\n",
    "print(5>4)\n",
    "print(5>=4)\n",
    "print(5!=4)\n",
    "print(5==4)\n"
   ]
  },
  {
   "cell_type": "code",
   "execution_count": 10,
   "metadata": {},
   "outputs": [
    {
     "name": "stdout",
     "output_type": "stream",
     "text": [
      "False\n",
      "True\n"
     ]
    }
   ],
   "source": [
    "# Logical Operators\n",
    "# and or not \n",
    "# True ~ -n..1..n\n",
    "# False ~ 0\n",
    "\n",
    "print(not(-99))\n",
    "print(not(0))\n"
   ]
  },
  {
   "cell_type": "code",
   "execution_count": 11,
   "metadata": {},
   "outputs": [
    {
     "name": "stdout",
     "output_type": "stream",
     "text": [
      "True\n",
      "True\n",
      "False\n",
      "False\n",
      "False\n",
      "True\n"
     ]
    }
   ],
   "source": [
    "a = True\n",
    "b = True\n",
    "\n",
    "print(a and b)\n",
    "print(a or b)\n",
    "print(not a and b)\n",
    "print(not(a and b))\n",
    "print(a and not b)\n",
    "print(not not a and b)"
   ]
  },
  {
   "cell_type": "code",
   "execution_count": 16,
   "metadata": {},
   "outputs": [
    {
     "name": "stdout",
     "output_type": "stream",
     "text": [
      "0\n",
      "6\n",
      "6\n",
      "-5\n",
      "32\n",
      "0\n"
     ]
    }
   ],
   "source": [
    "# Bitwise Operators\n",
    "\n",
    "a=2  # 0010 \n",
    "b=4  # 0100\n",
    "\n",
    "print(a&b)\n",
    "print(a|b)\n",
    "print(a^b)  # xor\n",
    "print(~b)  # not \n",
    "print(a<<b) # left shift Shift left by pushing zeros in from the right and let the leftmost bits fall off\n",
    "print(a>>b) # right shift Shift right by pushing copies of the leftmost bit in from the left, and let the rightmost bits fall off\n"
   ]
  },
  {
   "cell_type": "code",
   "execution_count": 19,
   "metadata": {},
   "outputs": [
    {
     "name": "stdout",
     "output_type": "stream",
     "text": [
      "True\n",
      "False\n",
      "False\n",
      "False\n"
     ]
    }
   ],
   "source": [
    "# Identity operator\n",
    "# is ::Returns True if both variables are the same object\n",
    "# is not :: Returns True if both variables are not the same object\n",
    "\n",
    "x = 4\n",
    "y = 4\n",
    "z =66\n",
    "\n",
    "print(x is y)\n",
    "print(z is y)\n",
    "print(x is not y)\n",
    "print(x is z)\n"
   ]
  },
  {
   "cell_type": "code",
   "execution_count": 22,
   "metadata": {},
   "outputs": [
    {
     "name": "stdout",
     "output_type": "stream",
     "text": [
      "True\n",
      "False\n",
      "False\n",
      "True\n"
     ]
    }
   ],
   "source": [
    "# Membership Operators\n",
    "# in :: Returns True if a sequence with the specified value is present in the object\n",
    "# not in ::Returns True if a sequence with the specified value is not present in the object\n",
    "\n",
    "x = [11,22,33,44,5,66,787,997]\n",
    "z= 111\n",
    "xs= 22\n",
    "\n",
    "print(xs in x)\n",
    "print(z in x)\n",
    "print(xs not in x)\n",
    "print(z  not in x)\n"
   ]
  },
  {
   "cell_type": "code",
   "execution_count": 1,
   "metadata": {},
   "outputs": [
    {
     "name": "stdout",
     "output_type": "stream",
     "text": [
      "Yes, 'apple' is in the fruits list\n"
     ]
    }
   ],
   "source": [
    "thislist = [\"apple\", \"banana\", \"cherry\"]\n",
    "if \"apple\" in thislist:\n",
    "  print(\"Yes, 'apple' is in the fruits list\")\n"
   ]
  },
  {
   "cell_type": "markdown",
   "metadata": {},
   "source": [
    "# Conditional Execution \n",
    "\n",
    ">if else\n",
    "\n",
    "> if elif elif ...\n"
   ]
  },
  {
   "cell_type": "code",
   "execution_count": 24,
   "metadata": {},
   "outputs": [
    {
     "name": "stdout",
     "output_type": "stream",
     "text": [
      "Hello there\n",
      "Howw are you\n"
     ]
    }
   ],
   "source": [
    "a=True\n",
    "if(a):\n",
    "    print('Hello there')\n",
    "    print('Howw are you')"
   ]
  },
  {
   "cell_type": "code",
   "execution_count": 23,
   "metadata": {},
   "outputs": [
    {
     "name": "stdout",
     "output_type": "stream",
     "text": [
      "Condition not met\n"
     ]
    }
   ],
   "source": [
    "a=20\n",
    "if(a==11):\n",
    "    print('Condition met')\n",
    "else:\n",
    "    print('Condition not met')    "
   ]
  },
  {
   "cell_type": "code",
   "execution_count": 30,
   "metadata": {},
   "outputs": [
    {
     "name": "stdout",
     "output_type": "stream",
     "text": [
      "Yayy youre an adult\n",
      "This part is beyond if else scope\n"
     ]
    }
   ],
   "source": [
    "a=20\n",
    "if(a<=11):\n",
    "    print('Your are underage')\n",
    "elif(a<=12):\n",
    "    print('your still underage')\n",
    "elif(a<=16):\n",
    "    print('just 2 more years')\n",
    "else:\n",
    "    print('Yayy youre an adult')\n",
    "print('This part is beyond if else scope')    \n",
    "    "
   ]
  },
  {
   "cell_type": "code",
   "execution_count": 34,
   "metadata": {},
   "outputs": [
    {
     "name": "stdout",
     "output_type": "stream",
     "text": [
      "Can afford Taxi now\n"
     ]
    }
   ],
   "source": [
    "# nested if else\n",
    "\n",
    "train_catched = False\n",
    "have_money = True\n",
    "\n",
    "\n",
    "if(train_catched):\n",
    "    print('Going by train')\n",
    "else:\n",
    "    if(have_money):\n",
    "        print('Can afford Taxi now')\n",
    "    else:\n",
    "        print('Dont even have money now ill walk')\n"
   ]
  },
  {
   "cell_type": "markdown",
   "metadata": {},
   "source": [
    "# Loops\n",
    "\n",
    "> for \n",
    "\n",
    "> while\n",
    "\n"
   ]
  },
  {
   "cell_type": "code",
   "execution_count": 2,
   "metadata": {},
   "outputs": [
    {
     "name": "stdout",
     "output_type": "stream",
     "text": [
      "(1, 'Kunal', 'Pune', 456)\n"
     ]
    }
   ],
   "source": [
    "a = 1,'Kunal','Pune',456  # immutable tuple\n",
    "print(a)"
   ]
  },
  {
   "cell_type": "code",
   "execution_count": 5,
   "metadata": {},
   "outputs": [
    {
     "name": "stdout",
     "output_type": "stream",
     "text": [
      "1\n",
      "Kunal\n",
      "Pune\n",
      "456\n"
     ]
    }
   ],
   "source": [
    "for x in a:\n",
    "    print(x)"
   ]
  },
  {
   "cell_type": "code",
   "execution_count": 7,
   "metadata": {},
   "outputs": [
    {
     "name": "stdout",
     "output_type": "stream",
     "text": [
      "0\n",
      "1\n",
      "2\n",
      "3\n",
      "4\n",
      "5\n",
      "6\n",
      "7\n",
      "8\n",
      "9\n"
     ]
    }
   ],
   "source": [
    "l=[]\n",
    "\n",
    "for i in range(10):\n",
    "    l.append(i)\n",
    "    \n",
    "for i in range(10):\n",
    "    print(l[i])"
   ]
  },
  {
   "cell_type": "code",
   "execution_count": 13,
   "metadata": {},
   "outputs": [
    {
     "name": "stdout",
     "output_type": "stream",
     "text": [
      "K\n",
      "u\n",
      "n\n",
      "a\n",
      "l\n",
      " \n",
      "i\n",
      "s\n",
      " \n",
      "m\n",
      "y\n",
      " \n",
      "n\n",
      "a\n",
      "m\n",
      "e\n"
     ]
    }
   ],
   "source": [
    "str = \"Kunal is my name\"\n",
    "for c in str:\n",
    "    print(c)"
   ]
  },
  {
   "cell_type": "code",
   "execution_count": 15,
   "metadata": {},
   "outputs": [
    {
     "name": "stdout",
     "output_type": "stream",
     "text": [
      "2\n",
      "4\n",
      "6\n",
      "8\n"
     ]
    }
   ],
   "source": [
    "# from 2 to 10 increment by 2\n",
    "\n",
    "for i in range(2,10,2):\n",
    "    print(i)"
   ]
  },
  {
   "cell_type": "code",
   "execution_count": 16,
   "metadata": {},
   "outputs": [
    {
     "name": "stdout",
     "output_type": "stream",
     "text": [
      "1\n",
      "2\n",
      "3\n",
      "4\n",
      "5\n"
     ]
    }
   ],
   "source": [
    "i=1 \n",
    "while i<=5:\n",
    "    print(i)\n",
    "    i=i+1"
   ]
  },
  {
   "cell_type": "code",
   "execution_count": null,
   "metadata": {},
   "outputs": [],
   "source": []
  },
  {
   "cell_type": "code",
   "execution_count": 31,
   "metadata": {},
   "outputs": [
    {
     "name": "stdout",
     "output_type": "stream",
     "text": [
      "1\n",
      "2\n",
      "3\n",
      "4\n",
      "5\n",
      "1\n",
      "2\n",
      "3\n",
      "4\n",
      "5\n",
      "1\n",
      "2\n",
      "3\n",
      "4\n",
      "5\n",
      "1\n",
      "2\n",
      "3\n",
      "4\n",
      "5\n",
      "1\n",
      "2\n",
      "3\n",
      "4\n",
      "5\n"
     ]
    }
   ],
   "source": [
    "ll = [[1,2,3,4,5],[1,2,3,4,5],[1,2,3,4,5],[1,2,3,4,5],[1,2,3,4,5]]\n",
    "\n",
    "for x in ll:\n",
    "    for y in x:\n",
    "        print(y)"
   ]
  },
  {
   "cell_type": "code",
   "execution_count": 35,
   "metadata": {},
   "outputs": [
    {
     "name": "stdout",
     "output_type": "stream",
     "text": [
      "1 2 3 4 5 \n",
      "1 2 3 4 5 \n",
      "1 2 3 4 5 \n",
      "1 2 3 4 5 \n",
      "1 2 3 4 5 \n"
     ]
    }
   ],
   "source": [
    "for x in ll:\n",
    "    for y in x:\n",
    "        print(y,end=\" \")      # overwrite the last char of y to \" \" from \"\\n\"\n",
    "    print()   # newline"
   ]
  },
  {
   "cell_type": "code",
   "execution_count": null,
   "metadata": {},
   "outputs": [],
   "source": [
    "# ass1\n",
    "\n",
    "take a no as ip and categorize the person on the basis of the marks\n",
    "\n",
    "# ass2\n",
    "\n",
    "guessing team india score \n",
    "while loop ask \n",
    "randomly generate a score \n",
    "if right end loop with message"
   ]
  }
 ],
 "metadata": {
  "kernelspec": {
   "display_name": "Python 3",
   "language": "python",
   "name": "python3"
  },
  "language_info": {
   "codemirror_mode": {
    "name": "ipython",
    "version": 3
   },
   "file_extension": ".py",
   "mimetype": "text/x-python",
   "name": "python",
   "nbconvert_exporter": "python",
   "pygments_lexer": "ipython3",
   "version": "3.7.6"
  }
 },
 "nbformat": 4,
 "nbformat_minor": 4
}
