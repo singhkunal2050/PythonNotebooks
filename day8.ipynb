{
 "cells": [
  {
   "cell_type": "markdown",
   "metadata": {},
   "source": [
    "# Classes and Objects "
   ]
  },
  {
   "cell_type": "code",
   "execution_count": 1,
   "metadata": {},
   "outputs": [],
   "source": [
    "class Person:\n",
    "    def __init__(self,fname,lname):\n",
    "        print('Constructor of person')\n",
    "        self.fname=fname\n",
    "        self.lname=lname\n",
    "        \n",
    "    def __del__ (self):\n",
    "        print('Memory freed')\n",
    "        \n",
    "    def setName(self,fname,lname):\n",
    "        self.fname=fname\n",
    "        self.lname=lname\n",
    "        \n",
    "    def show(self):\n",
    "        print(self.fname, \"\" ,self.lname)"
   ]
  },
  {
   "cell_type": "code",
   "execution_count": 2,
   "metadata": {},
   "outputs": [
    {
     "name": "stdout",
     "output_type": "stream",
     "text": [
      "kunal  singh\n"
     ]
    }
   ],
   "source": [
    "p = Person(\"kunal\",\"singh\")\n",
    "p.show()"
   ]
  },
  {
   "cell_type": "code",
   "execution_count": 5,
   "metadata": {},
   "outputs": [
    {
     "name": "stdout",
     "output_type": "stream",
     "text": [
      "Memory freed\n",
      "Constructor of Employee\n",
      "Memory freed\n",
      "Constructor of Employee\n",
      "Memory freed\n",
      "Kunal  Singh\n",
      "Om  Prakash\n",
      "sal : 213123\n",
      "Sai  KIran\n",
      "sal : 42343244523445\n"
     ]
    }
   ],
   "source": [
    "# default argument\n",
    "# only one type of  constructor can be used in python at a time\n",
    "\n",
    "# inheritance\n",
    "\n",
    "class Employee(Person):\n",
    "    def __init__(self,fname,sname,sal):\n",
    "        print('Constructor of Employee')\n",
    "        super().__init__(fname,sname)\n",
    "        self.sal =sal\n",
    "        \n",
    "    def setAll(self,fname,sname,sal):\n",
    "        super().setName(fname,sname)\n",
    "        self.sal = sal\n",
    "        \n",
    "    def show(self):\n",
    "        super().show()\n",
    "        print(\"sal :\",self.sal)\n",
    "        \n",
    "class Owner(Person):\n",
    "    def __init__(self,fname,sname,revenue):\n",
    "        print('Constructor of Owner')\n",
    "        super().__init__(fname,sname)\n",
    "        self.revenue =revenue\n",
    "        \n",
    "    def setAll(self,fname,sname,revenue):\n",
    "        super().setName(fname,sname)\n",
    "        self.revenue = revenue\n",
    "        \n",
    "    def show(self):\n",
    "        super().show()\n",
    "        print(\"Revenue :\",self.revenue)\n",
    "\n",
    "        \n",
    "p = Person(\"Kunal\",\"Singh\")\n",
    "e = Employee(\"Om\",\"Prakash\",213123)\n",
    "o = Employee(\"Sai\",\"KIran\",42343244523445)\n",
    "\n",
    "p.show()\n",
    "e.show()\n",
    "o.show()"
   ]
  },
  {
   "cell_type": "markdown",
   "metadata": {},
   "source": [
    "# Generators\n",
    "> generators are functions which give output acording to requirment\n",
    "\n",
    "> returns traversable objects\n",
    "\n",
    "> returns only one o|p at a time\n",
    "\n",
    "> generators are run with a loop\n",
    "\n",
    "> they return using 'yield' statement\n",
    "\n",
    "> generators are called using next() method\n",
    "\n",
    "> if the body of a func has yield it automatically becomes a generator"
   ]
  },
  {
   "cell_type": "code",
   "execution_count": 9,
   "metadata": {},
   "outputs": [
    {
     "name": "stdout",
     "output_type": "stream",
     "text": [
      "1\n",
      "7\n",
      "14\n"
     ]
    }
   ],
   "source": [
    "# generator eg\n",
    "\n",
    "def myGen():\n",
    "    yield 1\n",
    "    yield 7\n",
    "    yield 14\n",
    "    \n",
    "for i in myGen():\n",
    "    print(i)\n",
    "    \n"
   ]
  },
  {
   "cell_type": "code",
   "execution_count": 15,
   "metadata": {},
   "outputs": [
    {
     "name": "stdout",
     "output_type": "stream",
     "text": [
      "<generator object myGen at 0x000001A808ADDCC8>\n",
      "1\n",
      "7\n",
      "14\n"
     ]
    }
   ],
   "source": [
    "# storing the result of a generator\n",
    "\n",
    "a = myGen()\n",
    "print(a)\n",
    "print(a.__next__())\n",
    "print(a.__next__())\n",
    "print(a.__next__())\n",
    "# print(a.__next__())  # error on exyta iterations"
   ]
  },
  {
   "cell_type": "code",
   "execution_count": 17,
   "metadata": {},
   "outputs": [
    {
     "name": "stdout",
     "output_type": "stream",
     "text": [
      "[1, 2, 3, 4, 5]\n",
      "Kunal\n",
      "12.424\n"
     ]
    }
   ],
   "source": [
    "# amother generator\n",
    "\n",
    "def myGen2():\n",
    "    yield [1,2,3,4,5]\n",
    "    yield \"Kunal\"\n",
    "    yield 12.424\n",
    "    \n",
    "for i in myGen2():\n",
    "    print(i)              # objects"
   ]
  },
  {
   "cell_type": "code",
   "execution_count": 23,
   "metadata": {},
   "outputs": [
    {
     "name": "stdout",
     "output_type": "stream",
     "text": [
      "<generator object myGen3 at 0x000001A808F483C8>\n",
      "('name', 'kunal')\n",
      "('age', '21')\n",
      "('height', '5.59')\n",
      "('class', 'TY')\n"
     ]
    }
   ],
   "source": [
    "# dictoniary \n",
    "\n",
    "def myGen3(d):\n",
    "    for i in d.items():\n",
    "        yield i\n",
    "D = {\n",
    "    \"name\" : \"kunal\",\n",
    "    \"age\" : \"21\",\n",
    "    \"height\" : \"5.59\",\n",
    "    \"class\": \"TY\"\n",
    "}\n",
    " \n",
    "a = myGen3(D)\n",
    "print(a)\n",
    "print(a.__next__())\n",
    "print(a.__next__())\n",
    "print(a.__next__())\n",
    "print(a.__next__())\n",
    "# print(a.__next__())    # end of itr error\n"
   ]
  },
  {
   "cell_type": "markdown",
   "metadata": {},
   "source": [
    "# Decorators \n",
    "> Nested Functions\n",
    "\n",
    "> Functions are 1st class obj\n",
    "\n",
    "> Closure\n",
    "\n",
    "> Functions are Parameters"
   ]
  },
  {
   "cell_type": "code",
   "execution_count": 28,
   "metadata": {},
   "outputs": [
    {
     "name": "stdout",
     "output_type": "stream",
     "text": [
      "inside outer\n",
      "inside inner\n",
      "232\n",
      "leaving inner\n",
      "Leaving outter\n"
     ]
    }
   ],
   "source": [
    "def outter():\n",
    "    print(\"inside outer\")\n",
    "    def inner():\n",
    "        print(\"inside inner\")\n",
    "        x =232\n",
    "        print(x)\n",
    "        print(\"leaving inner\")\n",
    "    inner()\n",
    "    print('Leaving outter')\n",
    "    \n",
    "outter()\n",
    "# inner()              generates an error coz inner function is declared within outter function"
   ]
  },
  {
   "cell_type": "code",
   "execution_count": 33,
   "metadata": {},
   "outputs": [
    {
     "name": "stdout",
     "output_type": "stream",
     "text": [
      "<class 'function'>\n",
      "<function myfun at 0x000001A808D01318>\n"
     ]
    },
    {
     "data": {
      "text/plain": [
       "<function __main__.myfun()>"
      ]
     },
     "execution_count": 33,
     "metadata": {},
     "output_type": "execute_result"
    }
   ],
   "source": [
    "# functions are objects\n",
    "\n",
    "def myfun():\n",
    "    print('Heyy')\n",
    "    \n",
    "print(type(myfun))\n",
    "print(myfun)\n",
    "myfun"
   ]
  },
  {
   "cell_type": "code",
   "execution_count": 40,
   "metadata": {},
   "outputs": [],
   "source": [
    "#  functions can be treated as var we can use a ref var to call fun\n",
    "\n",
    "a = myfun"
   ]
  },
  {
   "cell_type": "code",
   "execution_count": 41,
   "metadata": {},
   "outputs": [
    {
     "name": "stdout",
     "output_type": "stream",
     "text": [
      "Heyy\n"
     ]
    },
    {
     "data": {
      "text/plain": [
       "<function __main__.myfun()>"
      ]
     },
     "execution_count": 41,
     "metadata": {},
     "output_type": "execute_result"
    }
   ],
   "source": [
    "a()\n",
    "a"
   ]
  },
  {
   "cell_type": "code",
   "execution_count": 47,
   "metadata": {},
   "outputs": [
    {
     "name": "stdout",
     "output_type": "stream",
     "text": [
      "inside out\n",
      "Leaving out\n",
      "<function out.<locals>.within at 0x000001A8093C2AF8>\n"
     ]
    },
    {
     "data": {
      "text/plain": [
       "'within'"
      ]
     },
     "execution_count": 47,
     "metadata": {},
     "output_type": "execute_result"
    }
   ],
   "source": [
    "# value returning function\n",
    "\n",
    "def out():\n",
    "    print('inside out')\n",
    "    x=34\n",
    "    def within():\n",
    "        print('inside within')\n",
    "        y=232\n",
    "        s = x + y\n",
    "        print('Leaving within')\n",
    "        return s\n",
    "    print('Leaving out')\n",
    "    return within      #  returning the obj of fun\n",
    "\n",
    "a= out()\n",
    "print(a)\n",
    "a.__name__    "
   ]
  },
  {
   "cell_type": "code",
   "execution_count": 49,
   "metadata": {},
   "outputs": [
    {
     "data": {
      "text/plain": [
       "266"
      ]
     },
     "execution_count": 49,
     "metadata": {},
     "output_type": "execute_result"
    }
   ],
   "source": [
    "# closure \n",
    "\n",
    "def out():\n",
    "    x=34\n",
    "    def within():\n",
    "        y=232\n",
    "        s = x + y\n",
    "        return s\n",
    "    return within      #  ret\n",
    "\n",
    "r = out()\n",
    "r()                           # it remembers the value of x"
   ]
  },
  {
   "cell_type": "code",
   "execution_count": 52,
   "metadata": {},
   "outputs": [
    {
     "name": "stdout",
     "output_type": "stream",
     "text": [
      "hello ksr\n"
     ]
    },
    {
     "data": {
      "text/plain": [
       "'inner'"
      ]
     },
     "execution_count": 52,
     "metadata": {},
     "output_type": "execute_result"
    }
   ],
   "source": [
    "# another eg of closure\n",
    "\n",
    "def out():\n",
    "    msg = \"hello ksr\"\n",
    "    def inner():\n",
    "        print(msg)\n",
    "    return  inner\n",
    "\n",
    "r = out()\n",
    "r()\n",
    "r.__name__"
   ]
  },
  {
   "cell_type": "code",
   "execution_count": 55,
   "metadata": {},
   "outputs": [
    {
     "name": "stdout",
     "output_type": "stream",
     "text": [
      "In fun2\n",
      "In fun1\n"
     ]
    }
   ],
   "source": [
    "# Functions are PArameters\n",
    "\n",
    "# eg \n",
    "\n",
    "def fun1():\n",
    "    print('In fun1')\n",
    "        \n",
    "def fun2(func):\n",
    "    print('In fun2')\n",
    "    func()\n",
    "\n",
    "fun2(fun1)\n",
    "    "
   ]
  },
  {
   "cell_type": "code",
   "execution_count": 57,
   "metadata": {},
   "outputs": [
    {
     "name": "stdout",
     "output_type": "stream",
     "text": [
      "learning decorators\n",
      "LEARNING DECORATORS\n"
     ]
    }
   ],
   "source": [
    "# Decorators\n",
    "\n",
    "def abc_upper(func):\n",
    "    def inner():\n",
    "        str1 = func()\n",
    "        return str1.upper()\n",
    "    return inner\n",
    "\n",
    "def abc_lowwer():\n",
    "    return \"learning decorators\"\n",
    "\n",
    "print(abc_lowwer())\n",
    "\n",
    "d = abc_upper(abc_lowwer)\n",
    "print(d())"
   ]
  },
  {
   "cell_type": "code",
   "execution_count": 58,
   "metadata": {},
   "outputs": [
    {
     "name": "stdout",
     "output_type": "stream",
     "text": [
      "LEARNING DECORATORS\n"
     ]
    }
   ],
   "source": [
    "# real use case\n",
    "\n",
    "def abc_upper(func):\n",
    "    def inner():\n",
    "        str1 = func()\n",
    "        return str1.upper()\n",
    "    return inner\n",
    "\n",
    "@abc_upper\n",
    "def abc_lowwer():\n",
    "    return 'learning decorators'\n",
    "\n",
    "print(abc_lowwer())"
   ]
  },
  {
   "cell_type": "code",
   "execution_count": null,
   "metadata": {},
   "outputs": [],
   "source": []
  },
  {
   "cell_type": "code",
   "execution_count": null,
   "metadata": {},
   "outputs": [],
   "source": []
  },
  {
   "cell_type": "code",
   "execution_count": null,
   "metadata": {},
   "outputs": [],
   "source": []
  },
  {
   "cell_type": "code",
   "execution_count": null,
   "metadata": {},
   "outputs": [],
   "source": []
  },
  {
   "cell_type": "code",
   "execution_count": null,
   "metadata": {},
   "outputs": [],
   "source": []
  },
  {
   "cell_type": "code",
   "execution_count": null,
   "metadata": {},
   "outputs": [],
   "source": []
  },
  {
   "cell_type": "code",
   "execution_count": null,
   "metadata": {},
   "outputs": [],
   "source": []
  },
  {
   "cell_type": "code",
   "execution_count": null,
   "metadata": {},
   "outputs": [],
   "source": []
  }
 ],
 "metadata": {
  "kernelspec": {
   "display_name": "Python 3",
   "language": "python",
   "name": "python3"
  },
  "language_info": {
   "codemirror_mode": {
    "name": "ipython",
    "version": 3
   },
   "file_extension": ".py",
   "mimetype": "text/x-python",
   "name": "python",
   "nbconvert_exporter": "python",
   "pygments_lexer": "ipython3",
   "version": "3.7.6"
  }
 },
 "nbformat": 4,
 "nbformat_minor": 4
}
