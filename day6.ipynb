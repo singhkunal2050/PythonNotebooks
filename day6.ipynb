{
 "cells": [
  {
   "cell_type": "code",
   "execution_count": 4,
   "metadata": {},
   "outputs": [],
   "source": [
    "# file handling\n",
    "# modes of opening \n",
    "# r => read\n",
    "# w => write\n",
    "# a => append\n",
    "# r+ => read & write"
   ]
  },
  {
   "cell_type": "code",
   "execution_count": 31,
   "metadata": {},
   "outputs": [
    {
     "name": "stdout",
     "output_type": "stream",
     "text": [
      "False\n",
      "t1.txt\n",
      "w\n"
     ]
    }
   ],
   "source": [
    "f = open('t1.txt' , 'w')\n",
    "\n",
    "# some file object attributes\n",
    "print(f.closed)\n",
    "print(f.name)\n",
    "print(f.mode)\n",
    "\n",
    "for i in range(10):\n",
    "    f.write(\"Line {0:d} \\n\".format(i))\n",
    "f.close()"
   ]
  },
  {
   "cell_type": "code",
   "execution_count": 33,
   "metadata": {},
   "outputs": [
    {
     "name": "stdout",
     "output_type": "stream",
     "text": [
      "Line 0 \n",
      "\n",
      "Line 1 \n",
      "\n",
      "Line 2 \n",
      "\n",
      "Line 3 \n",
      "\n",
      "Line 4 \n",
      "\n",
      "['Line 0 \\n', 'Line 1 \\n', 'Line 2 \\n', 'Line 3 \\n', 'Line 4 \\n', 'Line 5 \\n', 'Line 6 \\n', 'Line 7 \\n', 'Line 8 \\n', 'Line 9 \\n']\n"
     ]
    },
    {
     "data": {
      "text/plain": [
       "90"
      ]
     },
     "execution_count": 33,
     "metadata": {},
     "output_type": "execute_result"
    }
   ],
   "source": [
    "f = open('t1.txt','r')\n",
    "# print(f.read())   # entire file text\n",
    "# f.read(15)          # first 15 character\n",
    "\n",
    "for i in range(5):\n",
    "    print(f.readline())           # reads one line at a time\n",
    "    \n",
    "f.seek(0)          # jumps to a particular line\n",
    "l = f.readlines()  # returns a list with all the lines of file\n",
    "print(l)\n",
    "f.tell()  # no of characters"
   ]
  },
  {
   "cell_type": "code",
   "execution_count": 34,
   "metadata": {},
   "outputs": [
    {
     "name": "stdout",
     "output_type": "stream",
     "text": [
      "Line 0 \n",
      "Line 1 \n",
      "Line 2 \n",
      "Line 3 \n",
      "Line 4 \n",
      "Line 5 \n",
      "Line 6 \n",
      "Line 7 \n",
      "Line 8 \n",
      "Line 9 \n",
      "Appended 0\n",
      "Appended 1\n",
      "Appended 2\n",
      "Appended 3\n",
      "Appended 4\n",
      "\n"
     ]
    }
   ],
   "source": [
    "# append mode\n",
    "\n",
    "f = open('t1.txt' ,'a')\n",
    "for i in range(5):\n",
    "    f.write('Appended {0:d}\\n'.format(i))\n",
    "    \n",
    "f = open('t1.txt','r')\n",
    "print(f.read())\n",
    "\n",
    "f.close()"
   ]
  },
  {
   "cell_type": "code",
   "execution_count": 35,
   "metadata": {},
   "outputs": [],
   "source": [
    "# rename a file\n",
    "\n",
    "import os \n",
    "\n",
    "os.rename('t1.txt','kunal.txt')"
   ]
  },
  {
   "cell_type": "markdown",
   "metadata": {},
   "source": [
    "# Directory / Folder"
   ]
  },
  {
   "cell_type": "code",
   "execution_count": 40,
   "metadata": {},
   "outputs": [
    {
     "data": {
      "text/plain": [
       "['.ipynb_checkpoints',\n",
       " 'day1.ipynb',\n",
       " 'day2.ipynb',\n",
       " 'day3.ipynb',\n",
       " 'day3_assignments.ipynb',\n",
       " 'day4.ipynb',\n",
       " 'day4_assignments.ipynb',\n",
       " 'day5.ipynb',\n",
       " 'day5_assn.ipynb',\n",
       " 'day6.ipynb',\n",
       " 'demo',\n",
       " 'kunal.txt',\n",
       " 'pyVersions',\n",
       " 'themes.ipynb']"
      ]
     },
     "execution_count": 40,
     "metadata": {},
     "output_type": "execute_result"
    }
   ],
   "source": [
    "import os \n",
    "os.rmdir('demo')  # remove \n",
    "os.mkdir('demo')  # create\n",
    "os.listdir()      # list"
   ]
  },
  {
   "cell_type": "code",
   "execution_count": 41,
   "metadata": {},
   "outputs": [
    {
     "data": {
      "text/plain": [
       "['.ipynb_checkpoints',\n",
       " 'day1.ipynb',\n",
       " 'day2.ipynb',\n",
       " 'day3.ipynb',\n",
       " 'day3_assignments.ipynb',\n",
       " 'day4.ipynb',\n",
       " 'day4_assignments.ipynb',\n",
       " 'day5.ipynb',\n",
       " 'day5_assn.ipynb',\n",
       " 'day6.ipynb',\n",
       " 'kunal.txt',\n",
       " 'newdemo',\n",
       " 'pyVersions',\n",
       " 'themes.ipynb']"
      ]
     },
     "execution_count": 41,
     "metadata": {},
     "output_type": "execute_result"
    }
   ],
   "source": [
    "os.rename('demo','newdemo')\n",
    "os.listdir()      # list"
   ]
  },
  {
   "cell_type": "code",
   "execution_count": 44,
   "metadata": {},
   "outputs": [
    {
     "data": {
      "text/plain": [
       "['day1.py', 'day2.py', 'day3.py', 'day3_assignments.py', 'day4.py', 'day5.py']"
      ]
     },
     "execution_count": 44,
     "metadata": {},
     "output_type": "execute_result"
    }
   ],
   "source": [
    "# list the files of a directory\n",
    "os.listdir('pyVersions')"
   ]
  },
  {
   "cell_type": "markdown",
   "metadata": {},
   "source": [
    "# Exception Handling"
   ]
  },
  {
   "cell_type": "code",
   "execution_count": 45,
   "metadata": {},
   "outputs": [
    {
     "ename": "NameError",
     "evalue": "name 'ab' is not defined",
     "output_type": "error",
     "traceback": [
      "\u001b[1;31m---------------------------------------------------------------------------\u001b[0m",
      "\u001b[1;31mNameError\u001b[0m                                 Traceback (most recent call last)",
      "\u001b[1;32m<ipython-input-45-ffacf5436195>\u001b[0m in \u001b[0;36m<module>\u001b[1;34m\u001b[0m\n\u001b[0;32m      1\u001b[0m \u001b[0ma\u001b[0m \u001b[1;33m=\u001b[0m\u001b[1;36m1\u001b[0m\u001b[1;33m\u001b[0m\u001b[1;33m\u001b[0m\u001b[0m\n\u001b[0;32m      2\u001b[0m \u001b[0mb\u001b[0m \u001b[1;33m=\u001b[0m\u001b[1;36m2\u001b[0m\u001b[1;33m\u001b[0m\u001b[1;33m\u001b[0m\u001b[0m\n\u001b[1;32m----> 3\u001b[1;33m \u001b[0mc\u001b[0m \u001b[1;33m=\u001b[0m \u001b[0mab\u001b[0m\u001b[1;33m\u001b[0m\u001b[1;33m\u001b[0m\u001b[0m\n\u001b[0m\u001b[0;32m      4\u001b[0m \u001b[0mprint\u001b[0m\u001b[1;33m(\u001b[0m\u001b[0mc\u001b[0m\u001b[1;33m)\u001b[0m\u001b[1;33m\u001b[0m\u001b[1;33m\u001b[0m\u001b[0m\n",
      "\u001b[1;31mNameError\u001b[0m: name 'ab' is not defined"
     ]
    }
   ],
   "source": [
    "a =1 \n",
    "b =2 \n",
    "c = ab\n",
    "print(c)"
   ]
  },
  {
   "cell_type": "code",
   "execution_count": 46,
   "metadata": {},
   "outputs": [
    {
     "name": "stdout",
     "output_type": "stream",
     "text": [
      "No 1:1\n",
      "No 2:0\n"
     ]
    },
    {
     "ename": "ZeroDivisionError",
     "evalue": "division by zero",
     "output_type": "error",
     "traceback": [
      "\u001b[1;31m---------------------------------------------------------------------------\u001b[0m",
      "\u001b[1;31mZeroDivisionError\u001b[0m                         Traceback (most recent call last)",
      "\u001b[1;32m<ipython-input-46-1bb291a31af5>\u001b[0m in \u001b[0;36m<module>\u001b[1;34m\u001b[0m\n\u001b[0;32m      1\u001b[0m \u001b[0ma\u001b[0m \u001b[1;33m=\u001b[0m \u001b[0mint\u001b[0m\u001b[1;33m(\u001b[0m\u001b[0minput\u001b[0m\u001b[1;33m(\u001b[0m\u001b[1;34m'No 1:'\u001b[0m\u001b[1;33m)\u001b[0m\u001b[1;33m)\u001b[0m\u001b[1;33m\u001b[0m\u001b[1;33m\u001b[0m\u001b[0m\n\u001b[0;32m      2\u001b[0m \u001b[0mb\u001b[0m \u001b[1;33m=\u001b[0m \u001b[0mint\u001b[0m\u001b[1;33m(\u001b[0m\u001b[0minput\u001b[0m\u001b[1;33m(\u001b[0m\u001b[1;34m'No 2:'\u001b[0m\u001b[1;33m)\u001b[0m\u001b[1;33m)\u001b[0m\u001b[1;33m\u001b[0m\u001b[1;33m\u001b[0m\u001b[0m\n\u001b[1;32m----> 3\u001b[1;33m \u001b[0mc\u001b[0m \u001b[1;33m=\u001b[0m \u001b[0ma\u001b[0m\u001b[1;33m/\u001b[0m\u001b[0mb\u001b[0m\u001b[1;33m\u001b[0m\u001b[1;33m\u001b[0m\u001b[0m\n\u001b[0m\u001b[0;32m      4\u001b[0m \u001b[0mprint\u001b[0m\u001b[1;33m(\u001b[0m\u001b[0mc\u001b[0m\u001b[1;33m)\u001b[0m\u001b[1;33m\u001b[0m\u001b[1;33m\u001b[0m\u001b[0m\n",
      "\u001b[1;31mZeroDivisionError\u001b[0m: division by zero"
     ]
    }
   ],
   "source": [
    "a = int(input('No 1:'))\n",
    "b = int(input('No 2:'))\n",
    "c = a/b\n",
    "print(c)"
   ]
  },
  {
   "cell_type": "code",
   "execution_count": 52,
   "metadata": {},
   "outputs": [
    {
     "name": "stdout",
     "output_type": "stream",
     "text": [
      "No 1:a\n",
      "I'll print no matter what ill always run before the termaination of program \n"
     ]
    },
    {
     "ename": "ValueError",
     "evalue": "invalid literal for int() with base 10: 'a'",
     "output_type": "error",
     "traceback": [
      "\u001b[1;31m---------------------------------------------------------------------------\u001b[0m",
      "\u001b[1;31mValueError\u001b[0m                                Traceback (most recent call last)",
      "\u001b[1;32m<ipython-input-52-5be927cf56a8>\u001b[0m in \u001b[0;36m<module>\u001b[1;34m\u001b[0m\n\u001b[0;32m      3\u001b[0m \u001b[1;33m\u001b[0m\u001b[0m\n\u001b[0;32m      4\u001b[0m \u001b[1;32mtry\u001b[0m\u001b[1;33m:\u001b[0m\u001b[1;33m\u001b[0m\u001b[1;33m\u001b[0m\u001b[0m\n\u001b[1;32m----> 5\u001b[1;33m     \u001b[0ma\u001b[0m \u001b[1;33m=\u001b[0m \u001b[0mint\u001b[0m\u001b[1;33m(\u001b[0m\u001b[0minput\u001b[0m\u001b[1;33m(\u001b[0m\u001b[1;34m'No 1:'\u001b[0m\u001b[1;33m)\u001b[0m\u001b[1;33m)\u001b[0m\u001b[1;33m\u001b[0m\u001b[1;33m\u001b[0m\u001b[0m\n\u001b[0m\u001b[0;32m      6\u001b[0m     \u001b[0mb\u001b[0m \u001b[1;33m=\u001b[0m \u001b[0mint\u001b[0m\u001b[1;33m(\u001b[0m\u001b[0minput\u001b[0m\u001b[1;33m(\u001b[0m\u001b[1;34m'No 2:'\u001b[0m\u001b[1;33m)\u001b[0m\u001b[1;33m)\u001b[0m\u001b[1;33m\u001b[0m\u001b[1;33m\u001b[0m\u001b[0m\n\u001b[0;32m      7\u001b[0m     \u001b[0mc\u001b[0m \u001b[1;33m=\u001b[0m \u001b[0ma\u001b[0m\u001b[1;33m/\u001b[0m\u001b[0mb\u001b[0m\u001b[1;33m\u001b[0m\u001b[1;33m\u001b[0m\u001b[0m\n",
      "\u001b[1;31mValueError\u001b[0m: invalid literal for int() with base 10: 'a'"
     ]
    }
   ],
   "source": [
    "# exceptions are runtime errors\n",
    "# they can be avoided using try except and finally\n",
    "\n",
    "try:\n",
    "    a = int(input('No 1:'))\n",
    "    b = int(input('No 2:'))\n",
    "    c = a/b\n",
    "    print(c)\n",
    "    \n",
    "# except Exception:   common for all \n",
    "except ZeroDivisionError:\n",
    "    print('Something is wrong' ,ZeroDivisionError)\n",
    "finally :\n",
    "    print('I\\'ll print no matter what ill always run before the termaination of program ')\n",
    "\n"
   ]
  },
  {
   "cell_type": "code",
   "execution_count": 1,
   "metadata": {},
   "outputs": [
    {
     "name": "stdout",
     "output_type": "stream",
     "text": [
      "No 1:1\n",
      "No 2:a\n",
      "Something is wrong with value <class 'ValueError'>\n",
      "I'll print no matter what ill always run before the termaination of program \n"
     ]
    }
   ],
   "source": [
    "# on try many except\n",
    "\n",
    "try:\n",
    "    a = int(input('No 1:'))\n",
    "    b = int(input('No 2:'))\n",
    "    c = a/b\n",
    "    print(c)\n",
    "    \n",
    "except ZeroDivisionError:\n",
    "    print('Something is wrong' ,ZeroDivisionError)\n",
    "except ValueError:\n",
    "    print('Something is wrong with value' ,ValueError)\n",
    "finally :\n",
    "    print('I\\'ll print no matter what ill always run before the termaination of program ')\n",
    "\n"
   ]
  },
  {
   "cell_type": "code",
   "execution_count": 3,
   "metadata": {},
   "outputs": [
    {
     "name": "stdout",
     "output_type": "stream",
     "text": [
      "No 1:a\n",
      "Something is wrong\n",
      "I'll print no matter what ill always run before the termaination of program \n"
     ]
    }
   ],
   "source": [
    "# on try many except\n",
    "\n",
    "try:\n",
    "    a = int(input('No 1:'))\n",
    "    b = int(input('No 2:'))\n",
    "    c = a/b\n",
    "    print(c)\n",
    "    \n",
    "except (ValueError,ZeroDivisionError):\n",
    "    print('Something is wrong')\n",
    "finally :\n",
    "    print('I\\'ll print no matter what ill always run before the termaination of program ')\n"
   ]
  },
  {
   "cell_type": "code",
   "execution_count": 2,
   "metadata": {},
   "outputs": [
    {
     "name": "stdout",
     "output_type": "stream",
     "text": [
      "Enter a no1\n",
      "1\n",
      "Enter a no2\n",
      "2\n",
      "Enter a noA\n",
      "<class 'Exception'>\n"
     ]
    }
   ],
   "source": [
    "# menu for accepting a number with handling exception\n",
    "flag=True\n",
    "while flag==True:\n",
    "    try:\n",
    "        no = int(input('Enter a no'))\n",
    "        print(no)\n",
    "    except Exception:\n",
    "        print(Exception)\n",
    "        flag=False"
   ]
  },
  {
   "cell_type": "code",
   "execution_count": 1,
   "metadata": {},
   "outputs": [
    {
     "name": "stdout",
     "output_type": "stream",
     "text": [
      "No 1:1\n",
      "No 2:0\n",
      "Something is wrong <class 'ZeroDivisionError'>\n",
      "I'll print no matter what ill always run before the termaination of program \n"
     ]
    }
   ],
   "source": [
    "# on try many except\n",
    "\n",
    "try:\n",
    "    a = int(input('No 1:'))\n",
    "    b = int(input('No 2:'))\n",
    "    c = a/b\n",
    "    print(c)\n",
    "    \n",
    "except ZeroDivisionError:\n",
    "    print('Something is wrong' ,ZeroDivisionError)\n",
    "except ValueError:\n",
    "    print('Something is wrong with value' ,ValueError)\n",
    "else :\n",
    "    print('No exception next lines will execute')\n",
    "finally :\n",
    "    print('I\\'ll print no matter what ill always run before the termaination of program ')\n"
   ]
  },
  {
   "cell_type": "code",
   "execution_count": 2,
   "metadata": {},
   "outputs": [],
   "source": [
    "try:\n",
    "    f = open(\"demofile.txt\",\"w\")\n",
    "    f.write(\"Lorum Ipsum\")\n",
    "except Exception:\n",
    "    print(\"Something went wrong when writing to the file\")\n",
    "finally:\n",
    "    f.close()"
   ]
  },
  {
   "cell_type": "code",
   "execution_count": null,
   "metadata": {},
   "outputs": [],
   "source": [
    "# user defined exception\n",
    "\n",
    "try:\n",
    "    no = int(input('Enter a no '))\n",
    "    if no < 0:\n",
    "        raise Exception(\"Sorry, no numbers below zero\") \n",
    "# except Exception:\n",
    "#     print(Exception)\n",
    "finally:\n",
    "    print('End')\n",
    "    "
   ]
  },
  {
   "cell_type": "markdown",
   "metadata": {},
   "source": [
    "# MAP "
   ]
  },
  {
   "cell_type": "code",
   "execution_count": 9,
   "metadata": {},
   "outputs": [
    {
     "name": "stdout",
     "output_type": "stream",
     "text": [
      "16\n"
     ]
    }
   ],
   "source": [
    "# map(function, iterable)\n",
    "\n",
    "# without map\n",
    "\n",
    "def sqr(a):\n",
    "    return a*a\n",
    "\n",
    "print(sqr(4))\n",
    "\n"
   ]
  },
  {
   "cell_type": "code",
   "execution_count": 11,
   "metadata": {},
   "outputs": [
    {
     "name": "stdout",
     "output_type": "stream",
     "text": [
      "[1, 4, 9, 16, 25]\n"
     ]
    }
   ],
   "source": [
    "# with map\n",
    "\n",
    "x = map(sqr , [1,2,3,4,5])\n",
    "print(list(x))"
   ]
  },
  {
   "cell_type": "code",
   "execution_count": 13,
   "metadata": {},
   "outputs": [
    {
     "name": "stdout",
     "output_type": "stream",
     "text": [
      "[4, 2, 0, -2, -4]\n"
     ]
    }
   ],
   "source": [
    "import random \n",
    "def subtract(m,n):\n",
    "    return m-n\n",
    "\n",
    "result = map(subtract , [5,4,3,2,1],[1,2,3,4,5])\n",
    "print(list(result))"
   ]
  },
  {
   "cell_type": "markdown",
   "metadata": {},
   "source": [
    "# LAmda Function"
   ]
  },
  {
   "cell_type": "code",
   "execution_count": 18,
   "metadata": {},
   "outputs": [
    {
     "name": "stdout",
     "output_type": "stream",
     "text": [
      "14\n"
     ]
    }
   ],
   "source": [
    "# single line function which do not have a name \n",
    "\n",
    "a = lambda x,y : x + y\n",
    "\n",
    "print(a(5,9))\n"
   ]
  },
  {
   "cell_type": "code",
   "execution_count": 23,
   "metadata": {},
   "outputs": [
    {
     "name": "stdout",
     "output_type": "stream",
     "text": [
      "<function myfun.<locals>.<lambda> at 0x000001A8D72C5C18>\n",
      "103\n"
     ]
    }
   ],
   "source": [
    "# combo of def and lambda\n",
    "\n",
    "def myfun(x):\n",
    "    return lambda y:x+y\n",
    "\n",
    "result = myfun(4)\n",
    "print(result)\n",
    "print(result(99))\n"
   ]
  },
  {
   "cell_type": "code",
   "execution_count": null,
   "metadata": {},
   "outputs": [],
   "source": []
  },
  {
   "cell_type": "code",
   "execution_count": null,
   "metadata": {},
   "outputs": [],
   "source": []
  }
 ],
 "metadata": {
  "kernelspec": {
   "display_name": "Python 3",
   "language": "python",
   "name": "python3"
  },
  "language_info": {
   "codemirror_mode": {
    "name": "ipython",
    "version": 3
   },
   "file_extension": ".py",
   "mimetype": "text/x-python",
   "name": "python",
   "nbconvert_exporter": "python",
   "pygments_lexer": "ipython3",
   "version": "3.7.6"
  }
 },
 "nbformat": 4,
 "nbformat_minor": 4
}
