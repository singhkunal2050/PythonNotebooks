{
 "cells": [
  {
   "cell_type": "raw",
   "metadata": {},
   "source": [
    "# ass1\n",
    "\n",
    "take a no as ip and categorize the person on the basis of the marks\n",
    "\n",
    "# ass2\n",
    "\n",
    "guessing team india score \n",
    "while loop ask \n",
    "randomly generate a score \n",
    "if right end loop with message"
   ]
  },
  {
   "cell_type": "code",
   "execution_count": 3,
   "metadata": {},
   "outputs": [
    {
     "name": "stdout",
     "output_type": "stream",
     "text": [
      "Please enter your marks101\n",
      "Invalid Input\n",
      "Please enter your marks104555\n",
      "Invalid Input\n",
      "Please enter your marks1\n",
      "Sorry Youre FF\n",
      "Do you want to End?(1/0)1\n",
      "Thank yout for using\n"
     ]
    }
   ],
   "source": [
    "end = False \n",
    "\n",
    "while(not end):\n",
    "    marks = input('Please enter your marks')\n",
    "    marks = int(marks)\n",
    "    if(marks>100):\n",
    "        print('Invalid Input')\n",
    "        continue\n",
    "    elif(marks>=95):\n",
    "        print('Youre A+')\n",
    "    elif(marks>=85):\n",
    "            print('Youre A')\n",
    "    elif(marks>=75):\n",
    "            print('Youre B')\n",
    "    elif(marks>=65):\n",
    "            print('Youre C')\n",
    "    elif(marks>=35):\n",
    "            print('Youre D')\n",
    "    elif(marks<35):\n",
    "            print('Sorry Youre FF')\n",
    "    end = int(input('Do you want to End?(1/0)'))\n",
    "        \n",
    "print('Thank yout for using')\n",
    "    \n"
   ]
  },
  {
   "cell_type": "code",
   "execution_count": 1,
   "metadata": {},
   "outputs": [
    {
     "name": "stdout",
     "output_type": "stream",
     "text": [
      "43\n",
      "Please guess the score44\n",
      "Youre a true 29 20 fan\n",
      "Do you want to End?(1/0)0\n",
      "Please guess the score0\n",
      "Reduce your expectation for 20-20\n",
      "Do you want to End?(1/0)0\n",
      "Please guess the score2555\n",
      "Reduce your expectation for 20-20\n",
      "Do you want to End?(1/0)0\n",
      "Please guess the score66\n",
      "Close but not close enough\n",
      "Do you want to End?(1/0)1\n",
      "Thank yout for using\n"
     ]
    }
   ],
   "source": [
    "# ass 2 20 20\n",
    "\n",
    "import random\n",
    "\n",
    "end = False\n",
    "score = random.randint(1,250)\n",
    "print(score)\n",
    "\n",
    "while(not end):\n",
    "      guess = int (input('Please guess the score'))\n",
    "      if(guess>250 or guess <1):\n",
    "          print('Reduce your expectation for 20-20')\n",
    "      else:\n",
    "          if(abs(score-guess)==0):\n",
    "              print('Bullseye!!! On spot')\n",
    "          elif(abs(score-guess)<=10):\n",
    "              print('Youre a true 29 20 fan')\n",
    "          else:\n",
    "              print('Close but not close enough')\n",
    "      end = int(input('Do you want to End?(1/0)'))\n",
    "        \n",
    "print('Thank yout for using')\n",
    "         "
   ]
  }
 ],
 "metadata": {
  "kernelspec": {
   "display_name": "Python 3",
   "language": "python",
   "name": "python3"
  },
  "language_info": {
   "codemirror_mode": {
    "name": "ipython",
    "version": 3
   },
   "file_extension": ".py",
   "mimetype": "text/x-python",
   "name": "python",
   "nbconvert_exporter": "python",
   "pygments_lexer": "ipython3",
   "version": "3.7.6"
  }
 },
 "nbformat": 4,
 "nbformat_minor": 4
}
